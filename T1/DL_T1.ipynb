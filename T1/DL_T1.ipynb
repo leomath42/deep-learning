{
 "cells": [
  {
   "cell_type": "code",
   "execution_count": null,
   "metadata": {
    "id": "q1tPdd5Jg_HO"
   },
   "outputs": [],
   "source": []
  },
  {
   "cell_type": "markdown",
   "metadata": {
    "id": "-YZir9AOjcWW"
   },
   "source": [
    "# Classificação de clientes"
   ]
  },
  {
   "cell_type": "code",
   "execution_count": 178,
   "metadata": {
    "id": "AbAVXrUMiS8I"
   },
   "outputs": [],
   "source": [
    "%matplotlib inline\n",
    "\n",
    "# join one or more path components intelligently\n",
    "from os.path import join\n",
    "\n",
    "# Interface com o sistema operacional\n",
    "import os\n",
    "\n",
    "# Manipulação de dataframes\n",
    "import pandas as pd\n",
    "\n",
    "# Manipulação de dados tabulares\n",
    "import numpy as np\n",
    "\n",
    "# Normalização das características\n",
    "from sklearn.preprocessing import StandardScaler\n",
    "\n",
    "# visualização de dados baseada no matplotlib\n",
    "import seaborn as sns\n",
    "\n",
    "# Esboço de gráficos\n",
    "from matplotlib import pyplot as plt"
   ]
  },
  {
   "cell_type": "markdown",
   "metadata": {
    "id": "1q_hJLpdsoML"
   },
   "source": [
    "## Carga e inspeção dos dados"
   ]
  },
  {
   "cell_type": "code",
   "execution_count": 179,
   "metadata": {
    "id": "kqhbdu5V_uCi"
   },
   "outputs": [],
   "source": [
    "# Definição dos nomes das variáveis (conforme a tabela contida no enunciado)\n",
    "colnames = ['ESCT', 'NDEP', 'RENDA', 'TIPOR', 'VBEM', 'NPARC',\n",
    "            'VPARC', 'TEL', 'IDADE', 'RESMS', 'ENTRADA', 'CLASSE']"
   ]
  },
  {
   "cell_type": "code",
   "execution_count": 180,
   "metadata": {
    "id": "O8f0yXVbtEmZ"
   },
   "outputs": [],
   "source": [
    "# Leitura dos dados de treino\n",
    "arquivo = './credtrain.txt'\n",
    "data_train = pd.read_csv(arquivo, sep='\\t', header=None, names = colnames)\n",
    "\n",
    "# Leitura dos dados de teste\n",
    "arquivo = './credtest.txt'\n",
    "data_test = pd.read_csv(arquivo, sep='\\t', header=None, names = colnames)"
   ]
  },
  {
   "cell_type": "markdown",
   "metadata": {
    "id": "0tFxQ82et98A"
   },
   "source": [
    "**Inspeção dos dados**"
   ]
  },
  {
   "cell_type": "code",
   "execution_count": 181,
   "metadata": {
    "colab": {
     "base_uri": "https://localhost:8080/"
    },
    "id": "Doy7gsSfecpv",
    "outputId": "4470ec1a-7e9d-4065-ce0a-5a2ee1f27750"
   },
   "outputs": [
    {
     "output_type": "stream",
     "name": "stdout",
     "text": [
      "(1500, 12) (577, 12)\n"
     ]
    }
   ],
   "source": [
    "# Inspeção da dimensão do dataset\n",
    "print(data_train.shape, data_test.shape)"
   ]
  },
  {
   "cell_type": "code",
   "execution_count": 182,
   "metadata": {
    "colab": {
     "base_uri": "https://localhost:8080/",
     "height": 206
    },
    "id": "1gM-thS-_uCj",
    "outputId": "1501944f-90ae-4431-f01b-fadc35645ff4"
   },
   "outputs": [
    {
     "output_type": "execute_result",
     "data": {
      "text/plain": [
       "   ESCT  NDEP  RENDA  TIPOR  VBEM  NPARC  VPARC  TEL  IDADE  RESMS  ENTRADA  \\\n",
       "0     1     0    360      0   313      9     52    0     25     48        0   \n",
       "1     0     0    350      1   468     10     65    0     33      6        0   \n",
       "2     0     0   1100      0   829      9    125    0     56     48        0   \n",
       "3     0     0   3000      0   552     12     76    1     31     60        0   \n",
       "4     1     0   1000      0   809     12    111    0     24      7        0   \n",
       "\n",
       "   CLASSE  \n",
       "0       1  \n",
       "1       1  \n",
       "2       1  \n",
       "3       1  \n",
       "4       1  "
      ],
      "text/html": "<div>\n<style scoped>\n    .dataframe tbody tr th:only-of-type {\n        vertical-align: middle;\n    }\n\n    .dataframe tbody tr th {\n        vertical-align: top;\n    }\n\n    .dataframe thead th {\n        text-align: right;\n    }\n</style>\n<table border=\"1\" class=\"dataframe\">\n  <thead>\n    <tr style=\"text-align: right;\">\n      <th></th>\n      <th>ESCT</th>\n      <th>NDEP</th>\n      <th>RENDA</th>\n      <th>TIPOR</th>\n      <th>VBEM</th>\n      <th>NPARC</th>\n      <th>VPARC</th>\n      <th>TEL</th>\n      <th>IDADE</th>\n      <th>RESMS</th>\n      <th>ENTRADA</th>\n      <th>CLASSE</th>\n    </tr>\n  </thead>\n  <tbody>\n    <tr>\n      <th>0</th>\n      <td>1</td>\n      <td>0</td>\n      <td>360</td>\n      <td>0</td>\n      <td>313</td>\n      <td>9</td>\n      <td>52</td>\n      <td>0</td>\n      <td>25</td>\n      <td>48</td>\n      <td>0</td>\n      <td>1</td>\n    </tr>\n    <tr>\n      <th>1</th>\n      <td>0</td>\n      <td>0</td>\n      <td>350</td>\n      <td>1</td>\n      <td>468</td>\n      <td>10</td>\n      <td>65</td>\n      <td>0</td>\n      <td>33</td>\n      <td>6</td>\n      <td>0</td>\n      <td>1</td>\n    </tr>\n    <tr>\n      <th>2</th>\n      <td>0</td>\n      <td>0</td>\n      <td>1100</td>\n      <td>0</td>\n      <td>829</td>\n      <td>9</td>\n      <td>125</td>\n      <td>0</td>\n      <td>56</td>\n      <td>48</td>\n      <td>0</td>\n      <td>1</td>\n    </tr>\n    <tr>\n      <th>3</th>\n      <td>0</td>\n      <td>0</td>\n      <td>3000</td>\n      <td>0</td>\n      <td>552</td>\n      <td>12</td>\n      <td>76</td>\n      <td>1</td>\n      <td>31</td>\n      <td>60</td>\n      <td>0</td>\n      <td>1</td>\n    </tr>\n    <tr>\n      <th>4</th>\n      <td>1</td>\n      <td>0</td>\n      <td>1000</td>\n      <td>0</td>\n      <td>809</td>\n      <td>12</td>\n      <td>111</td>\n      <td>0</td>\n      <td>24</td>\n      <td>7</td>\n      <td>0</td>\n      <td>1</td>\n    </tr>\n  </tbody>\n</table>\n</div>"
     },
     "metadata": {},
     "execution_count": 182
    }
   ],
   "source": [
    "# Inspeção das primeiras linhas do conjunto de treinamento\n",
    "data_train.head()"
   ]
  },
  {
   "cell_type": "code",
   "execution_count": 183,
   "metadata": {
    "colab": {
     "base_uri": "https://localhost:8080/",
     "height": 206
    },
    "id": "2qdSwb4AuGEo",
    "outputId": "23030a75-752a-4325-f2ca-6fe8a81d96db"
   },
   "outputs": [
    {
     "output_type": "execute_result",
     "data": {
      "text/plain": [
       "   ESCT  NDEP  RENDA  TIPOR  VBEM  NPARC  VPARC  TEL  IDADE  RESMS  ENTRADA  \\\n",
       "0     0     2    500      1   618     10     85    0     36      6        0   \n",
       "1     1     0    813      0   552      4    119    0     43     48      119   \n",
       "2     3     0    350      0   488     12     66    0     43      0        0   \n",
       "3     1     0   1530      0   381      1    398    0     28     48        0   \n",
       "4     0     0    688      1   396     10     60    0     49     72        0   \n",
       "\n",
       "   CLASSE  \n",
       "0       0  \n",
       "1       1  \n",
       "2       1  \n",
       "3       1  \n",
       "4       1  "
      ],
      "text/html": "<div>\n<style scoped>\n    .dataframe tbody tr th:only-of-type {\n        vertical-align: middle;\n    }\n\n    .dataframe tbody tr th {\n        vertical-align: top;\n    }\n\n    .dataframe thead th {\n        text-align: right;\n    }\n</style>\n<table border=\"1\" class=\"dataframe\">\n  <thead>\n    <tr style=\"text-align: right;\">\n      <th></th>\n      <th>ESCT</th>\n      <th>NDEP</th>\n      <th>RENDA</th>\n      <th>TIPOR</th>\n      <th>VBEM</th>\n      <th>NPARC</th>\n      <th>VPARC</th>\n      <th>TEL</th>\n      <th>IDADE</th>\n      <th>RESMS</th>\n      <th>ENTRADA</th>\n      <th>CLASSE</th>\n    </tr>\n  </thead>\n  <tbody>\n    <tr>\n      <th>0</th>\n      <td>0</td>\n      <td>2</td>\n      <td>500</td>\n      <td>1</td>\n      <td>618</td>\n      <td>10</td>\n      <td>85</td>\n      <td>0</td>\n      <td>36</td>\n      <td>6</td>\n      <td>0</td>\n      <td>0</td>\n    </tr>\n    <tr>\n      <th>1</th>\n      <td>1</td>\n      <td>0</td>\n      <td>813</td>\n      <td>0</td>\n      <td>552</td>\n      <td>4</td>\n      <td>119</td>\n      <td>0</td>\n      <td>43</td>\n      <td>48</td>\n      <td>119</td>\n      <td>1</td>\n    </tr>\n    <tr>\n      <th>2</th>\n      <td>3</td>\n      <td>0</td>\n      <td>350</td>\n      <td>0</td>\n      <td>488</td>\n      <td>12</td>\n      <td>66</td>\n      <td>0</td>\n      <td>43</td>\n      <td>0</td>\n      <td>0</td>\n      <td>1</td>\n    </tr>\n    <tr>\n      <th>3</th>\n      <td>1</td>\n      <td>0</td>\n      <td>1530</td>\n      <td>0</td>\n      <td>381</td>\n      <td>1</td>\n      <td>398</td>\n      <td>0</td>\n      <td>28</td>\n      <td>48</td>\n      <td>0</td>\n      <td>1</td>\n    </tr>\n    <tr>\n      <th>4</th>\n      <td>0</td>\n      <td>0</td>\n      <td>688</td>\n      <td>1</td>\n      <td>396</td>\n      <td>10</td>\n      <td>60</td>\n      <td>0</td>\n      <td>49</td>\n      <td>72</td>\n      <td>0</td>\n      <td>1</td>\n    </tr>\n  </tbody>\n</table>\n</div>"
     },
     "metadata": {},
     "execution_count": 183
    }
   ],
   "source": [
    "# Inspeção das primeiras linhas do conjunto de teste\n",
    "data_test.head()"
   ]
  },
  {
   "cell_type": "markdown",
   "metadata": {
    "id": "6nLoBloCF-sZ"
   },
   "source": [
    "## Pré-processamento dos dados"
   ]
  },
  {
   "cell_type": "markdown",
   "metadata": {
    "id": "q-Xss-RY2tml"
   },
   "source": [
    "### Transformação de variáveis não-numéricas\n",
    "\n",
    "É importante observar que a variável ESCT (Estado Civil) é do tipo categórica, podendo assumir 4 valores diferentes (cada valor corresponde a um estado civil). Assim, diferentemente de NDEP (onde cada valor corresponde a uma quantidade de dependentes), na variável ESCT cada valor corresponde a uma categoria. Contudo, este fato pode trazer inconsistências na criação e treinamento de modelos.\n",
    "\n",
    "Para mitigar este problema, uma alternativa é tranformar a variável ESCT em uma variável *dummy* (variável binária). Neste sentido, cada categoria da variável ESCT corresponderá a uma variável. Visto que há 4 possíveis categorias para a variável ESCT, obteremos 4 variáveis ESCT binárias.\n",
    "\n",
    "Uma variável *dummy* é uma variável binária utilizadas para representar categorias. Neste sentido, em um caso de uma variável com 3 ou mais categorias, recomenda-se a criação de $n-1$ dummies. Diante disso, a variável ESCT será transformada em 4 \"variantes dummy\", onde o valor 1 corresponderá à ocorrência de determinada categoria e o valor 0 corresponderá à não ocorrência."
   ]
  },
  {
   "cell_type": "code",
   "execution_count": 184,
   "metadata": {
    "colab": {
     "base_uri": "https://localhost:8080/",
     "height": 206
    },
    "id": "yErjVPa6_uCo",
    "outputId": "46abe673-8593-43aa-d110-d77311b4fbc1"
   },
   "outputs": [
    {
     "output_type": "execute_result",
     "data": {
      "text/plain": [
       "   NDEP  RENDA  TIPOR  VBEM  NPARC  VPARC  TEL  IDADE  RESMS  ENTRADA  CLASSE  \\\n",
       "0     0    360      0   313      9     52    0     25     48        0       1   \n",
       "1     0    350      1   468     10     65    0     33      6        0       1   \n",
       "2     0   1100      0   829      9    125    0     56     48        0       1   \n",
       "3     0   3000      0   552     12     76    1     31     60        0       1   \n",
       "4     0   1000      0   809     12    111    0     24      7        0       1   \n",
       "\n",
       "   ESCT_1  ESCT_2  ESCT_3  \n",
       "0       1       0       0  \n",
       "1       0       0       0  \n",
       "2       0       0       0  \n",
       "3       0       0       0  \n",
       "4       1       0       0  "
      ],
      "text/html": "<div>\n<style scoped>\n    .dataframe tbody tr th:only-of-type {\n        vertical-align: middle;\n    }\n\n    .dataframe tbody tr th {\n        vertical-align: top;\n    }\n\n    .dataframe thead th {\n        text-align: right;\n    }\n</style>\n<table border=\"1\" class=\"dataframe\">\n  <thead>\n    <tr style=\"text-align: right;\">\n      <th></th>\n      <th>NDEP</th>\n      <th>RENDA</th>\n      <th>TIPOR</th>\n      <th>VBEM</th>\n      <th>NPARC</th>\n      <th>VPARC</th>\n      <th>TEL</th>\n      <th>IDADE</th>\n      <th>RESMS</th>\n      <th>ENTRADA</th>\n      <th>CLASSE</th>\n      <th>ESCT_1</th>\n      <th>ESCT_2</th>\n      <th>ESCT_3</th>\n    </tr>\n  </thead>\n  <tbody>\n    <tr>\n      <th>0</th>\n      <td>0</td>\n      <td>360</td>\n      <td>0</td>\n      <td>313</td>\n      <td>9</td>\n      <td>52</td>\n      <td>0</td>\n      <td>25</td>\n      <td>48</td>\n      <td>0</td>\n      <td>1</td>\n      <td>1</td>\n      <td>0</td>\n      <td>0</td>\n    </tr>\n    <tr>\n      <th>1</th>\n      <td>0</td>\n      <td>350</td>\n      <td>1</td>\n      <td>468</td>\n      <td>10</td>\n      <td>65</td>\n      <td>0</td>\n      <td>33</td>\n      <td>6</td>\n      <td>0</td>\n      <td>1</td>\n      <td>0</td>\n      <td>0</td>\n      <td>0</td>\n    </tr>\n    <tr>\n      <th>2</th>\n      <td>0</td>\n      <td>1100</td>\n      <td>0</td>\n      <td>829</td>\n      <td>9</td>\n      <td>125</td>\n      <td>0</td>\n      <td>56</td>\n      <td>48</td>\n      <td>0</td>\n      <td>1</td>\n      <td>0</td>\n      <td>0</td>\n      <td>0</td>\n    </tr>\n    <tr>\n      <th>3</th>\n      <td>0</td>\n      <td>3000</td>\n      <td>0</td>\n      <td>552</td>\n      <td>12</td>\n      <td>76</td>\n      <td>1</td>\n      <td>31</td>\n      <td>60</td>\n      <td>0</td>\n      <td>1</td>\n      <td>0</td>\n      <td>0</td>\n      <td>0</td>\n    </tr>\n    <tr>\n      <th>4</th>\n      <td>0</td>\n      <td>1000</td>\n      <td>0</td>\n      <td>809</td>\n      <td>12</td>\n      <td>111</td>\n      <td>0</td>\n      <td>24</td>\n      <td>7</td>\n      <td>0</td>\n      <td>1</td>\n      <td>1</td>\n      <td>0</td>\n      <td>0</td>\n    </tr>\n  </tbody>\n</table>\n</div>"
     },
     "metadata": {},
     "execution_count": 184
    }
   ],
   "source": [
    "# Aplicação no conjunto de treinamento\n",
    "data_train_new = pd.get_dummies(data = data_train, \n",
    "                                prefix='ESCT', \n",
    "                                columns=['ESCT'], \n",
    "                                drop_first=True)\n",
    "\n",
    "\"\"\"\n",
    "pd.get_dummies: Convert categorical variable into dummy/indicator variables.\n",
    "\"\"\"\n",
    "\n",
    "# Inspeção das primeiras linhas\n",
    "data_train_new.head()"
   ]
  },
  {
   "cell_type": "code",
   "execution_count": 185,
   "metadata": {
    "colab": {
     "base_uri": "https://localhost:8080/",
     "height": 206
    },
    "id": "hI9UgoSS_uCp",
    "outputId": "f7f045fd-6660-453a-d4c1-433186b51353"
   },
   "outputs": [
    {
     "output_type": "execute_result",
     "data": {
      "text/plain": [
       "   NDEP  RENDA  TIPOR  VBEM  NPARC  VPARC  TEL  IDADE  RESMS  ENTRADA  CLASSE  \\\n",
       "0     2    500      1   618     10     85    0     36      6        0       0   \n",
       "1     0    813      0   552      4    119    0     43     48      119       1   \n",
       "2     0    350      0   488     12     66    0     43      0        0       1   \n",
       "3     0   1530      0   381      1    398    0     28     48        0       1   \n",
       "4     0    688      1   396     10     60    0     49     72        0       1   \n",
       "\n",
       "   ESCT_1  ESCT_2  ESCT_3  \n",
       "0       0       0       0  \n",
       "1       1       0       0  \n",
       "2       0       0       1  \n",
       "3       1       0       0  \n",
       "4       0       0       0  "
      ],
      "text/html": "<div>\n<style scoped>\n    .dataframe tbody tr th:only-of-type {\n        vertical-align: middle;\n    }\n\n    .dataframe tbody tr th {\n        vertical-align: top;\n    }\n\n    .dataframe thead th {\n        text-align: right;\n    }\n</style>\n<table border=\"1\" class=\"dataframe\">\n  <thead>\n    <tr style=\"text-align: right;\">\n      <th></th>\n      <th>NDEP</th>\n      <th>RENDA</th>\n      <th>TIPOR</th>\n      <th>VBEM</th>\n      <th>NPARC</th>\n      <th>VPARC</th>\n      <th>TEL</th>\n      <th>IDADE</th>\n      <th>RESMS</th>\n      <th>ENTRADA</th>\n      <th>CLASSE</th>\n      <th>ESCT_1</th>\n      <th>ESCT_2</th>\n      <th>ESCT_3</th>\n    </tr>\n  </thead>\n  <tbody>\n    <tr>\n      <th>0</th>\n      <td>2</td>\n      <td>500</td>\n      <td>1</td>\n      <td>618</td>\n      <td>10</td>\n      <td>85</td>\n      <td>0</td>\n      <td>36</td>\n      <td>6</td>\n      <td>0</td>\n      <td>0</td>\n      <td>0</td>\n      <td>0</td>\n      <td>0</td>\n    </tr>\n    <tr>\n      <th>1</th>\n      <td>0</td>\n      <td>813</td>\n      <td>0</td>\n      <td>552</td>\n      <td>4</td>\n      <td>119</td>\n      <td>0</td>\n      <td>43</td>\n      <td>48</td>\n      <td>119</td>\n      <td>1</td>\n      <td>1</td>\n      <td>0</td>\n      <td>0</td>\n    </tr>\n    <tr>\n      <th>2</th>\n      <td>0</td>\n      <td>350</td>\n      <td>0</td>\n      <td>488</td>\n      <td>12</td>\n      <td>66</td>\n      <td>0</td>\n      <td>43</td>\n      <td>0</td>\n      <td>0</td>\n      <td>1</td>\n      <td>0</td>\n      <td>0</td>\n      <td>1</td>\n    </tr>\n    <tr>\n      <th>3</th>\n      <td>0</td>\n      <td>1530</td>\n      <td>0</td>\n      <td>381</td>\n      <td>1</td>\n      <td>398</td>\n      <td>0</td>\n      <td>28</td>\n      <td>48</td>\n      <td>0</td>\n      <td>1</td>\n      <td>1</td>\n      <td>0</td>\n      <td>0</td>\n    </tr>\n    <tr>\n      <th>4</th>\n      <td>0</td>\n      <td>688</td>\n      <td>1</td>\n      <td>396</td>\n      <td>10</td>\n      <td>60</td>\n      <td>0</td>\n      <td>49</td>\n      <td>72</td>\n      <td>0</td>\n      <td>1</td>\n      <td>0</td>\n      <td>0</td>\n      <td>0</td>\n    </tr>\n  </tbody>\n</table>\n</div>"
     },
     "metadata": {},
     "execution_count": 185
    }
   ],
   "source": [
    "# Aplicação da transformação sobre o conjunto de teste\n",
    "data_test_new = pd.get_dummies(data = data_test, prefix='ESCT', columns=['ESCT'], drop_first=True)\n",
    "\n",
    "\"\"\"\n",
    "pd.get_dummies: Convert categorical variable into dummy/indicator variables\n",
    "\"\"\"\n",
    "\n",
    "# Inspeção das primeiras linhas\n",
    "data_test_new.head()"
   ]
  },
  {
   "cell_type": "markdown",
   "metadata": {
    "id": "yRkwEDzO91ZB"
   },
   "source": [
    "**Separação do conjunto de dados em rótulo ($\\mathrm{y}$) e features ($\\mathrm{x}$)**\n",
    "\n",
    "O rótulo ($\\mathrm{y}$) corresponde ao vetor contendo a variável alvo (CLASSE), enquanto que features ($\\mathrm{x}$) corresponde à matriz de dados."
   ]
  },
  {
   "cell_type": "code",
   "execution_count": 186,
   "metadata": {
    "colab": {
     "base_uri": "https://localhost:8080/"
    },
    "id": "mxKjqguU_uCr",
    "outputId": "c3dbcdc2-f51d-4e21-9a53-3832d6772ae2"
   },
   "outputs": [
    {
     "output_type": "execute_result",
     "data": {
      "text/plain": [
       "array([1, 1, 1, 1, 1])"
      ]
     },
     "metadata": {},
     "execution_count": 186
    }
   ],
   "source": [
    "# Transformação da variável alvo do conjunto de treinamento em vetor\n",
    "y_train = np.array(data_train_new['CLASSE'])\n",
    "\n",
    "# Inspeção das primeira linhas\n",
    "y_train[:5]"
   ]
  },
  {
   "cell_type": "code",
   "execution_count": 332,
   "metadata": {
    "colab": {
     "base_uri": "https://localhost:8080/"
    },
    "id": "9bIZH23c_uCt",
    "outputId": "d94dc393-5b9a-45d1-cb03-8ee573380f56"
   },
   "outputs": [
    {
     "output_type": "stream",
     "name": "stdout",
     "text": [
      "577\n"
     ]
    },
    {
     "output_type": "execute_result",
     "data": {
      "text/plain": [
       "array([0, 1, 1, 1, 1])"
      ]
     },
     "metadata": {},
     "execution_count": 332
    }
   ],
   "source": [
    "# Transformação da variável alvo do conjunto de teste em vetor\n",
    "y_test = np.array(data_test_new['CLASSE'])\n",
    "\n",
    "# Inspeção das primeiras linhas\n",
    "y_test[:5]"
   ]
  },
  {
   "cell_type": "code",
   "execution_count": 188,
   "metadata": {
    "colab": {
     "base_uri": "https://localhost:8080/"
    },
    "id": "J7YkPky3_uCv",
    "outputId": "0ae3183e-a089-476c-e3fc-ca778054cddf"
   },
   "outputs": [
    {
     "output_type": "execute_result",
     "data": {
      "text/plain": [
       "array([[   0,  360,    0, ...,    1,    0,    0],\n",
       "       [   0,  350,    1, ...,    0,    0,    0],\n",
       "       [   0, 1100,    0, ...,    0,    0,    0],\n",
       "       ...,\n",
       "       [   0,  570,    0, ...,    0,    0,    0],\n",
       "       [   0,  360,    0, ...,    0,    0,    0],\n",
       "       [   4,  501,    1, ...,    0,    0,    0]])"
      ]
     },
     "metadata": {},
     "execution_count": 188
    }
   ],
   "source": [
    "# Transformação do conjunto de treinamento remanescente em matriz de dados\n",
    "features_name_train = list(data_train_new.columns)               # nomes das colunas\n",
    "features_name_train.remove('CLASSE')                             # remove variável \"CLASSE\"\n",
    "X_train = np.array(data_train_new.loc[:, features_name_train])   # Transformação em matriz de dados\n",
    "\n",
    "# Inspeção da matriz resultante\n",
    "X_train"
   ]
  },
  {
   "cell_type": "code",
   "execution_count": 189,
   "metadata": {
    "colab": {
     "base_uri": "https://localhost:8080/"
    },
    "id": "Zl5JbSo2_uCw",
    "outputId": "2f5df1c3-67df-4af4-f536-524f9912dd15"
   },
   "outputs": [
    {
     "output_type": "execute_result",
     "data": {
      "text/plain": [
       "array([[   2,  500,    1, ...,    0,    0,    0],\n",
       "       [   0,  813,    0, ...,    1,    0,    0],\n",
       "       [   0,  350,    0, ...,    0,    0,    1],\n",
       "       ...,\n",
       "       [   3, 1200,    0, ...,    0,    0,    0],\n",
       "       [   0,  600,    0, ...,    1,    0,    0],\n",
       "       [   0,  800,    1, ...,    0,    0,    0]])"
      ]
     },
     "metadata": {},
     "execution_count": 189
    }
   ],
   "source": [
    "# Transformação do conjunto de teste remanescente em matriz de dados\n",
    "features_name_test = list(data_test_new.columns)               # Recuperação dos nomes das colunas\n",
    "features_name_test.remove('CLASSE')                            # Remoção da variável \"CLASSE\"\n",
    "X_test = np.array(data_test_new.loc[:, features_name_test])   # Transformação em matriz\n",
    "\n",
    "# Inspeção da matriz resultante\n",
    "X_test"
   ]
  },
  {
   "cell_type": "markdown",
   "metadata": {
    "id": "Rd9a5XDvDmso"
   },
   "source": [
    "### Normalização das features\n",
    "\n",
    "Antes de iniciar o treinamento, é também necessário realizar a *normalização* das características a fim de evitar problemas decorrentes à discrepância nas ordens de grandeza das features."
   ]
  },
  {
   "cell_type": "code",
   "execution_count": 190,
   "metadata": {
    "id": "CNkkpj63EedQ"
   },
   "outputs": [],
   "source": [
    "# Criação do objeto para a padronização das features\n",
    "scaler = StandardScaler()\n",
    "\n",
    "# Ajustamento do StandardScaler ao conjunto de dados de treino e padronização dos dados de treino\n",
    "X_train_norm = scaler.fit_transform(X_train)\n",
    "\n",
    "# Transformação dos dados de teste com os parâmetros ajustados a partir dos dados de treino\n",
    "X_test_norm = scaler.transform(X_test)"
   ]
  },
  {
   "cell_type": "code",
   "execution_count": 191,
   "metadata": {
    "colab": {
     "base_uri": "https://localhost:8080/"
    },
    "id": "RazjkSXbe336",
    "outputId": "b6c38010-45cd-4e4a-fc87-1142aa5c61c0"
   },
   "outputs": [
    {
     "output_type": "stream",
     "name": "stdout",
     "text": [
      "(1500, 13) (577, 13) (1500,) (577,)\n"
     ]
    }
   ],
   "source": [
    "# Dimensões dos datasets\n",
    "print(X_train_norm.shape, X_test_norm.shape, y_train.shape, y_test.shape)"
   ]
  },
  {
   "cell_type": "markdown",
   "metadata": {
    "id": "XIe5k4w4kA-B"
   },
   "source": [
    "## Treinamento do modelo"
   ]
  },
  {
   "source": [
    "Nessa parte, precisamos converter os datasets para Tensores do Pytorch, entretando,\n",
    "\n",
    "Como o dtype dos inputs e outputs são diferentes, precisamos convertelos para um tipo único, convertendo então para float32.\n",
    "\n",
    "Além disso, precisamos adicionar uma \"coluna\" no conj. de treino, pois o seu formato é o\n",
    "de um vetor/array, o que prejudicaria nos cálculos, sendo assim,\n",
    "convertemos o shape dos datasets também:\n"
   ],
   "cell_type": "markdown",
   "metadata": {}
  },
  {
   "cell_type": "code",
   "execution_count": 192,
   "metadata": {},
   "outputs": [
    {
     "output_type": "stream",
     "name": "stdout",
     "text": [
      "Tipos de dados de X: float64 e Y: int64\nTransformando o shape do output de treino:\ntreino -> de torch.Size([1500]) para torch.Size([1500, 1])\nteste ->  de torch.Size([1500]) para torch.Size([1500, 1])\n"
     ]
    }
   ],
   "source": [
    "# transformando numpy arrays em  Tensores do Pytorch\n",
    "# Convertendo os datsets de treino e de tests.:\n",
    "\n",
    "# dataset de treino\n",
    "X_train_tensor = torch.from_numpy(X_train_norm).float()\n",
    "y_train_tensor = torch.from_numpy(y_train).float().unsqueeze(1)\n",
    "\n",
    "# dataset de testes\n",
    "X_test_tensor = torch.from_numpy(X_test_norm).float()\n",
    "y_test_tensor = torch.from_numpy(y_test).float().unsqueeze(1)\n",
    "\n",
    "print(\"Tipos de dados de X: {0} e Y: {1}\".format(X_test_norm.dtype, y_train.dtype))\n",
    "print('Transformando o shape do output de treino:')\n",
    "print(\"treino -> de {0} para {1}\".format(torch.from_numpy(y_train).shape, y_train_tensor.shape))\n",
    "print(\"teste ->  de {0} para {1}\".format(torch.from_numpy(y_train).shape, y_train_tensor.shape))"
   ]
  },
  {
   "source": [
    "Nessa parte, definimos alguns objetos e variáveis importantes, como a criação do tensor dataset, os dataloaders e alguns hyperparâmetros:\n",
    "\n",
    "Definimos duas funções de perda que foram utilizadas para testar o modelo:\n",
    "- mse_loss\n",
    "- binary cross entropy\n",
    "\n",
    "- **Tamanho do Lote**, sendo O BATCH_SIZE de valor 50.\n",
    "\n",
    "Os outros hyperparâmetros:\n",
    "\n",
    "- **Quantidade de épocas de treinamento**, sedo NUM_EPOCHS, de valor 20.\n",
    "\n",
    "- **Taxa de aprendizado**, sendo LEARN_RATE com valor de 0.01.\n",
    "\n",
    "- **quantidade de neurônios na camada de entrada**, sendo o input_size, com valor 13.\n",
    "\n",
    "- **quantidade de neurônios na camada oculta**, sendo o hidden_size com valor 4, calculados por (BATCH_SIZE // input_size) + output_size.\n",
    "\n",
    "- **quantidade de neurônios na camada de saída**, sendo o output_size com valor 1.\n",
    "\n",
    "- Foram utilizadas duas funções de ativações, a **relu** e **sigmoid**, aplicadas na hidden layer e output layer respectivamente.\n"
   ],
   "cell_type": "markdown",
   "metadata": {}
  },
  {
   "cell_type": "code",
   "execution_count": 360,
   "metadata": {
    "id": "7GWUb_d4kJI8",
    "tags": []
   },
   "outputs": [
    {
     "output_type": "stream",
     "name": "stdout",
     "text": [
      "x: torch.Size([50, 13])\ny: torch.Size([50, 1])\n13 4 1\n"
     ]
    }
   ],
   "source": [
    "# seu código aqui\n",
    "\n",
    "import torch\n",
    "from torch.utils.data import TensorDataset\n",
    "from torch.utils.data import DataLoader\n",
    "import torch.nn.functional as torch_functions\n",
    "\n",
    "#################### Hyper Parâmetros ####################\n",
    "# Define loss function\n",
    "mse_loss = torch_functions.mse_loss\n",
    "bce_loss = torch_functions.binary_cross_entropy \n",
    "\n",
    "# Definindo algumas constantes\n",
    "BATCH_SIZE = 50\n",
    "LEARNING_RATE = 0.1\n",
    "NUM_EPOCHS = 20\n",
    "\n",
    "input_size = X_train_tensor.shape[1]\n",
    "output_size = y_train_tensor.shape[1]\n",
    "hidden_size = (BATCH_SIZE // input_size) + output_size\n",
    "\n",
    "opt_func=torch.optim.SGD\n",
    "##########################################################\n",
    "\n",
    "\n",
    "# Definindo objetos tensores de dataset e o dataloader para o conj. de dados\n",
    "# de treino e de testes.\n",
    "train_dataset = TensorDataset(X_train_tensor, y_train_tensor)\n",
    "train_dataset_loader = DataLoader(train_dataset, BATCH_SIZE, shuffle=True)\n",
    "\n",
    "\n",
    "test_dataset        = TensorDataset(X_test_tensor, y_test_tensor)\n",
    "test_dataset_loader = DataLoader(test_dataset, BATCH_SIZE)\n",
    "\n",
    "# imprime algumas informações importantes na tela\n",
    "\n",
    "for x, y in train_dataset_loader:\n",
    "    print('x: {}'.format(x.shape))\n",
    "    print('y: {}'.format(y.shape))\n",
    "    break\n",
    "\n",
    "\n",
    "print(input_size, hidden_size, output_size)\n"
   ]
  },
  {
   "source": [
    "## Etapa de Modelagem do problema:\n",
    "\n",
    "Nessa parte foi definida uma classe de Modelo do problema e uma função de treino:\n"
   ],
   "cell_type": "markdown",
   "metadata": {}
  },
  {
   "cell_type": "code",
   "execution_count": 361,
   "metadata": {},
   "outputs": [],
   "source": [
    "# Definindo um modelo para o problema:\n",
    "\n",
    "################ Classe que Modela o problema a ser resolvido ################\n",
    "import torch.nn as nn\n",
    "\n",
    "class Model(torch.nn.Module):\n",
    "\n",
    "    def __init__(self, input_size, hidden_size, output_size, f_loss):\n",
    "        super().__init__()\n",
    "\n",
    "        # função loss\n",
    "        self.f_loss = f_loss\n",
    "\n",
    "        # Primeira camada de neurônios(Hidden Layer) da rede:\n",
    "        self.hidden_layer = nn.Linear(input_size, hidden_size)\n",
    "\n",
    "        # camada de saída da rede:\n",
    "        self.output_layer = nn.Linear(hidden_size, output_size)\n",
    "\n",
    "        self.evaluate_history = []\n",
    "\n",
    "    def forward(self, _input):\n",
    "        hidden_output = self.hidden_layer(_input)\n",
    "        # Usando a função de ativação da camada oculta\n",
    "        out = torch_functions.relu(hidden_output)\n",
    "        # camada de saída\n",
    "        out = self.output_layer(out)\n",
    "\n",
    "        # Usando a função de ativação da camada de saída\n",
    "        out = torch_functions.sigmoid(out)\n",
    "        return out\n",
    "    \n",
    "    def training_step(self, x, y):\n",
    "        output = self(x)\n",
    "        loss = self.f_loss(output, y)\n",
    "\n",
    "        return loss\n",
    "\n",
    "    def evaluate(self, validation_batch):\n",
    "        loss = []\n",
    "        accuracy = []\n",
    "        for x, y in validation_batch:\n",
    "            kw = self.validation_step(x, y)\n",
    "            loss.append(kw.get('loss'))\n",
    "            accuracy.append(kw.get('accuracy'))\n",
    "\n",
    "        value =  {\n",
    "            'loss': torch.stack(loss).mean().item(),\n",
    "            'accuracy': torch.stack(accuracy).mean().item()\n",
    "        }\n",
    "\n",
    "        self.evaluate_history.append((value['loss'], value['accuracy']))\n",
    "\n",
    "        return value\n",
    "\n",
    "    def accuracy(self, output, y_test):\n",
    "\n",
    "        output = torch.round(output)\n",
    "\n",
    "        results = (output == y_test).sum().float()\n",
    "        acc = results/y_test.shape[0]\n",
    "        acc = acc * 100\n",
    "        \n",
    "        return acc\n",
    "\n",
    "    def validation_step(self, x, y): # x, y batch\n",
    "        output = self(x)\n",
    "        loss = self.f_loss(output, y)\n",
    "        _accuracy = self.accuracy(output, y)\n",
    "\n",
    "        value = {'loss':loss, 'accuracy': _accuracy}\n",
    "\n",
    "        return value\n",
    "\n",
    "\n",
    "################ Função responsável por treinar o modelo ################\n",
    "def traning_model(model, epochs, learning_rate, train_loader, validation_loader, opt_func=torch.optim.SGD):\n",
    "    opt = opt_func(model.parameters(), lr=learning_rate)\n",
    "    \n",
    "    for epoch in range(epochs):\n",
    "        for x, y in train_dataset_loader:\n",
    "            loss = model.training_step(x, y)\n",
    "\n",
    "            loss.backward()\n",
    "\n",
    "            opt.step()\n",
    "\n",
    "            opt.zero_grad()\n",
    "\n",
    "        result = model.evaluate(validation_loader)\n",
    "\n",
    "        print(\"Epoch [{}], val_loss: {:.4f}, val_acc: {:.4f}\".format(epoch, result['loss'], result['accuracy']))\n"
   ]
  },
  {
   "source": [
    "## Etapa de treino do modelo em 20 épocas:\n",
    "\n",
    "Podemos perceber que o modelo converge rapidamente, tendo uma precisão média de de 80% >"
   ],
   "cell_type": "markdown",
   "metadata": {}
  },
  {
   "cell_type": "code",
   "execution_count": 277,
   "metadata": {
    "tags": []
   },
   "outputs": [
    {
     "output_type": "stream",
     "name": "stdout",
     "text": [
      "Epoch [0], val_loss: 0.2417, val_acc: 49.5123\n",
      "Epoch [1], val_loss: 0.2186, val_acc: 62.8642\n",
      "Epoch [2], val_loss: 0.1951, val_acc: 74.7901\n",
      "Epoch [3], val_loss: 0.1709, val_acc: 84.5741\n",
      "Epoch [4], val_loss: 0.1491, val_acc: 87.8827\n",
      "Epoch [5], val_loss: 0.1322, val_acc: 88.2160\n",
      "Epoch [6], val_loss: 0.1201, val_acc: 88.5494\n",
      "Epoch [7], val_loss: 0.1118, val_acc: 89.2160\n",
      "Epoch [8], val_loss: 0.1061, val_acc: 89.3827\n",
      "Epoch [9], val_loss: 0.1023, val_acc: 89.8827\n",
      "Epoch [10], val_loss: 0.0995, val_acc: 90.0494\n",
      "Epoch [11], val_loss: 0.0972, val_acc: 90.0494\n",
      "Epoch [12], val_loss: 0.0957, val_acc: 90.2160\n",
      "Epoch [13], val_loss: 0.0942, val_acc: 90.2160\n",
      "Epoch [14], val_loss: 0.0931, val_acc: 90.2160\n",
      "Epoch [15], val_loss: 0.0920, val_acc: 90.2160\n",
      "Epoch [16], val_loss: 0.0912, val_acc: 90.2160\n",
      "Epoch [17], val_loss: 0.0904, val_acc: 90.3827\n",
      "Epoch [18], val_loss: 0.0899, val_acc: 90.5494\n",
      "Epoch [19], val_loss: 0.0893, val_acc: 90.5494\n"
     ]
    }
   ],
   "source": [
    "\n",
    "# dation_history.append((loss, _accuracy))\n",
    "        # self.validation_history_count += 1\n",
    "model = Model(input_size, hidden_size, output_size, mse_loss)\n",
    "\n",
    "\n",
    "traning_model(model, NUM_EPOCHS, LEARNING_RATE, train_dataset_loader, test_dataset_loader)\n"
   ]
  },
  {
   "cell_type": "markdown",
   "metadata": {
    "id": "5T9JwxRikHKh"
   },
   "source": [
    "## Validação do modelo\n",
    "\n",
    "Agore iremos validar e testar o modelo, verificando seu desempenho geral.\n",
    "\n",
    "Para isso, iremos desenvolver alguns itens como a curva de aprendizado, a matriz de confusão, o resultado da classification report do Scikit-Learn\n"
   ]
  },
  {
   "source": [
    "### Gráfico de Curva de aprendizado e Curva de perda X épocas:"
   ],
   "cell_type": "markdown",
   "metadata": {}
  },
  {
   "cell_type": "code",
   "execution_count": 311,
   "metadata": {
    "id": "2j8gkXUQkLY8"
   },
   "outputs": [
    {
     "output_type": "execute_result",
     "data": {
      "text/plain": [
       "[<matplotlib.lines.Line2D at 0x7fba6719d0a0>]"
      ]
     },
     "metadata": {},
     "execution_count": 311
    },
    {
     "output_type": "display_data",
     "data": {
      "text/plain": "<Figure size 720x720 with 2 Axes>",
      "image/svg+xml": "<?xml version=\"1.0\" encoding=\"utf-8\" standalone=\"no\"?>\n<!DOCTYPE svg PUBLIC \"-//W3C//DTD SVG 1.1//EN\"\n  \"http://www.w3.org/Graphics/SVG/1.1/DTD/svg11.dtd\">\n<svg xmlns:xlink=\"http://www.w3.org/1999/xlink\" width=\"615.34375pt\" height=\"588.35625pt\" viewBox=\"0 0 615.34375 588.35625\" xmlns=\"http://www.w3.org/2000/svg\" version=\"1.1\">\n <metadata>\n  <rdf:RDF xmlns:dc=\"http://purl.org/dc/elements/1.1/\" xmlns:cc=\"http://creativecommons.org/ns#\" xmlns:rdf=\"http://www.w3.org/1999/02/22-rdf-syntax-ns#\">\n   <cc:Work>\n    <dc:type rdf:resource=\"http://purl.org/dc/dcmitype/StillImage\"/>\n    <dc:date>2022-02-19T09:59:28.553972</dc:date>\n    <dc:format>image/svg+xml</dc:format>\n    <dc:creator>\n     <cc:Agent>\n      <dc:title>Matplotlib v3.5.1, https://matplotlib.org/</dc:title>\n     </cc:Agent>\n    </dc:creator>\n   </cc:Work>\n  </rdf:RDF>\n </metadata>\n <defs>\n  <style type=\"text/css\">*{stroke-linejoin: round; stroke-linecap: butt}</style>\n </defs>\n <g id=\"figure_1\">\n  <g id=\"patch_1\">\n   <path d=\"M 0 588.35625 \nL 615.34375 588.35625 \nL 615.34375 0 \nL 0 0 \nL 0 588.35625 \nz\n\" style=\"fill: none\"/>\n  </g>\n  <g id=\"axes_1\">\n   <g id=\"patch_2\">\n    <path d=\"M 50.14375 254.290909 \nL 608.14375 254.290909 \nL 608.14375 7.2 \nL 50.14375 7.2 \nz\n\" style=\"fill: #ffffff\"/>\n   </g>\n   <g id=\"matplotlib.axis_1\">\n    <g id=\"xtick_1\">\n     <g id=\"line2d_1\">\n      <defs>\n       <path id=\"md84eb9cf7f\" d=\"M 0 0 \nL 0 3.5 \n\" style=\"stroke: #000000; stroke-width: 0.8\"/>\n      </defs>\n      <g>\n       <use xlink:href=\"#md84eb9cf7f\" x=\"75.507386\" y=\"254.290909\" style=\"stroke: #000000; stroke-width: 0.8\"/>\n      </g>\n     </g>\n     <g id=\"text_1\">\n      <!-- 0.0 -->\n      <g transform=\"translate(67.555824 268.889347)scale(0.1 -0.1)\">\n       <defs>\n        <path id=\"DejaVuSans-30\" d=\"M 2034 4250 \nQ 1547 4250 1301 3770 \nQ 1056 3291 1056 2328 \nQ 1056 1369 1301 889 \nQ 1547 409 2034 409 \nQ 2525 409 2770 889 \nQ 3016 1369 3016 2328 \nQ 3016 3291 2770 3770 \nQ 2525 4250 2034 4250 \nz\nM 2034 4750 \nQ 2819 4750 3233 4129 \nQ 3647 3509 3647 2328 \nQ 3647 1150 3233 529 \nQ 2819 -91 2034 -91 \nQ 1250 -91 836 529 \nQ 422 1150 422 2328 \nQ 422 3509 836 4129 \nQ 1250 4750 2034 4750 \nz\n\" transform=\"scale(0.015625)\"/>\n        <path id=\"DejaVuSans-2e\" d=\"M 684 794 \nL 1344 794 \nL 1344 0 \nL 684 0 \nL 684 794 \nz\n\" transform=\"scale(0.015625)\"/>\n       </defs>\n       <use xlink:href=\"#DejaVuSans-30\"/>\n       <use xlink:href=\"#DejaVuSans-2e\" x=\"63.623047\"/>\n       <use xlink:href=\"#DejaVuSans-30\" x=\"95.410156\"/>\n      </g>\n     </g>\n    </g>\n    <g id=\"xtick_2\">\n     <g id=\"line2d_2\">\n      <g>\n       <use xlink:href=\"#md84eb9cf7f\" x=\"142.253798\" y=\"254.290909\" style=\"stroke: #000000; stroke-width: 0.8\"/>\n      </g>\n     </g>\n     <g id=\"text_2\">\n      <!-- 2.5 -->\n      <g transform=\"translate(134.302235 268.889347)scale(0.1 -0.1)\">\n       <defs>\n        <path id=\"DejaVuSans-32\" d=\"M 1228 531 \nL 3431 531 \nL 3431 0 \nL 469 0 \nL 469 531 \nQ 828 903 1448 1529 \nQ 2069 2156 2228 2338 \nQ 2531 2678 2651 2914 \nQ 2772 3150 2772 3378 \nQ 2772 3750 2511 3984 \nQ 2250 4219 1831 4219 \nQ 1534 4219 1204 4116 \nQ 875 4013 500 3803 \nL 500 4441 \nQ 881 4594 1212 4672 \nQ 1544 4750 1819 4750 \nQ 2544 4750 2975 4387 \nQ 3406 4025 3406 3419 \nQ 3406 3131 3298 2873 \nQ 3191 2616 2906 2266 \nQ 2828 2175 2409 1742 \nQ 1991 1309 1228 531 \nz\n\" transform=\"scale(0.015625)\"/>\n        <path id=\"DejaVuSans-35\" d=\"M 691 4666 \nL 3169 4666 \nL 3169 4134 \nL 1269 4134 \nL 1269 2991 \nQ 1406 3038 1543 3061 \nQ 1681 3084 1819 3084 \nQ 2600 3084 3056 2656 \nQ 3513 2228 3513 1497 \nQ 3513 744 3044 326 \nQ 2575 -91 1722 -91 \nQ 1428 -91 1123 -41 \nQ 819 9 494 109 \nL 494 744 \nQ 775 591 1075 516 \nQ 1375 441 1709 441 \nQ 2250 441 2565 725 \nQ 2881 1009 2881 1497 \nQ 2881 1984 2565 2268 \nQ 2250 2553 1709 2553 \nQ 1456 2553 1204 2497 \nQ 953 2441 691 2322 \nL 691 4666 \nz\n\" transform=\"scale(0.015625)\"/>\n       </defs>\n       <use xlink:href=\"#DejaVuSans-32\"/>\n       <use xlink:href=\"#DejaVuSans-2e\" x=\"63.623047\"/>\n       <use xlink:href=\"#DejaVuSans-35\" x=\"95.410156\"/>\n      </g>\n     </g>\n    </g>\n    <g id=\"xtick_3\">\n     <g id=\"line2d_3\">\n      <g>\n       <use xlink:href=\"#md84eb9cf7f\" x=\"209.000209\" y=\"254.290909\" style=\"stroke: #000000; stroke-width: 0.8\"/>\n      </g>\n     </g>\n     <g id=\"text_3\">\n      <!-- 5.0 -->\n      <g transform=\"translate(201.048647 268.889347)scale(0.1 -0.1)\">\n       <use xlink:href=\"#DejaVuSans-35\"/>\n       <use xlink:href=\"#DejaVuSans-2e\" x=\"63.623047\"/>\n       <use xlink:href=\"#DejaVuSans-30\" x=\"95.410156\"/>\n      </g>\n     </g>\n    </g>\n    <g id=\"xtick_4\">\n     <g id=\"line2d_4\">\n      <g>\n       <use xlink:href=\"#md84eb9cf7f\" x=\"275.746621\" y=\"254.290909\" style=\"stroke: #000000; stroke-width: 0.8\"/>\n      </g>\n     </g>\n     <g id=\"text_4\">\n      <!-- 7.5 -->\n      <g transform=\"translate(267.795058 268.889347)scale(0.1 -0.1)\">\n       <defs>\n        <path id=\"DejaVuSans-37\" d=\"M 525 4666 \nL 3525 4666 \nL 3525 4397 \nL 1831 0 \nL 1172 0 \nL 2766 4134 \nL 525 4134 \nL 525 4666 \nz\n\" transform=\"scale(0.015625)\"/>\n       </defs>\n       <use xlink:href=\"#DejaVuSans-37\"/>\n       <use xlink:href=\"#DejaVuSans-2e\" x=\"63.623047\"/>\n       <use xlink:href=\"#DejaVuSans-35\" x=\"95.410156\"/>\n      </g>\n     </g>\n    </g>\n    <g id=\"xtick_5\">\n     <g id=\"line2d_5\">\n      <g>\n       <use xlink:href=\"#md84eb9cf7f\" x=\"342.493032\" y=\"254.290909\" style=\"stroke: #000000; stroke-width: 0.8\"/>\n      </g>\n     </g>\n     <g id=\"text_5\">\n      <!-- 10.0 -->\n      <g transform=\"translate(331.36022 268.889347)scale(0.1 -0.1)\">\n       <defs>\n        <path id=\"DejaVuSans-31\" d=\"M 794 531 \nL 1825 531 \nL 1825 4091 \nL 703 3866 \nL 703 4441 \nL 1819 4666 \nL 2450 4666 \nL 2450 531 \nL 3481 531 \nL 3481 0 \nL 794 0 \nL 794 531 \nz\n\" transform=\"scale(0.015625)\"/>\n       </defs>\n       <use xlink:href=\"#DejaVuSans-31\"/>\n       <use xlink:href=\"#DejaVuSans-30\" x=\"63.623047\"/>\n       <use xlink:href=\"#DejaVuSans-2e\" x=\"127.246094\"/>\n       <use xlink:href=\"#DejaVuSans-30\" x=\"159.033203\"/>\n      </g>\n     </g>\n    </g>\n    <g id=\"xtick_6\">\n     <g id=\"line2d_6\">\n      <g>\n       <use xlink:href=\"#md84eb9cf7f\" x=\"409.239444\" y=\"254.290909\" style=\"stroke: #000000; stroke-width: 0.8\"/>\n      </g>\n     </g>\n     <g id=\"text_6\">\n      <!-- 12.5 -->\n      <g transform=\"translate(398.106631 268.889347)scale(0.1 -0.1)\">\n       <use xlink:href=\"#DejaVuSans-31\"/>\n       <use xlink:href=\"#DejaVuSans-32\" x=\"63.623047\"/>\n       <use xlink:href=\"#DejaVuSans-2e\" x=\"127.246094\"/>\n       <use xlink:href=\"#DejaVuSans-35\" x=\"159.033203\"/>\n      </g>\n     </g>\n    </g>\n    <g id=\"xtick_7\">\n     <g id=\"line2d_7\">\n      <g>\n       <use xlink:href=\"#md84eb9cf7f\" x=\"475.985855\" y=\"254.290909\" style=\"stroke: #000000; stroke-width: 0.8\"/>\n      </g>\n     </g>\n     <g id=\"text_7\">\n      <!-- 15.0 -->\n      <g transform=\"translate(464.853043 268.889347)scale(0.1 -0.1)\">\n       <use xlink:href=\"#DejaVuSans-31\"/>\n       <use xlink:href=\"#DejaVuSans-35\" x=\"63.623047\"/>\n       <use xlink:href=\"#DejaVuSans-2e\" x=\"127.246094\"/>\n       <use xlink:href=\"#DejaVuSans-30\" x=\"159.033203\"/>\n      </g>\n     </g>\n    </g>\n    <g id=\"xtick_8\">\n     <g id=\"line2d_8\">\n      <g>\n       <use xlink:href=\"#md84eb9cf7f\" x=\"542.732267\" y=\"254.290909\" style=\"stroke: #000000; stroke-width: 0.8\"/>\n      </g>\n     </g>\n     <g id=\"text_8\">\n      <!-- 17.5 -->\n      <g transform=\"translate(531.599454 268.889347)scale(0.1 -0.1)\">\n       <use xlink:href=\"#DejaVuSans-31\"/>\n       <use xlink:href=\"#DejaVuSans-37\" x=\"63.623047\"/>\n       <use xlink:href=\"#DejaVuSans-2e\" x=\"127.246094\"/>\n       <use xlink:href=\"#DejaVuSans-35\" x=\"159.033203\"/>\n      </g>\n     </g>\n    </g>\n    <g id=\"text_9\">\n     <!-- epoch -->\n     <g transform=\"translate(313.915625 282.567472)scale(0.1 -0.1)\">\n      <defs>\n       <path id=\"DejaVuSans-65\" d=\"M 3597 1894 \nL 3597 1613 \nL 953 1613 \nQ 991 1019 1311 708 \nQ 1631 397 2203 397 \nQ 2534 397 2845 478 \nQ 3156 559 3463 722 \nL 3463 178 \nQ 3153 47 2828 -22 \nQ 2503 -91 2169 -91 \nQ 1331 -91 842 396 \nQ 353 884 353 1716 \nQ 353 2575 817 3079 \nQ 1281 3584 2069 3584 \nQ 2775 3584 3186 3129 \nQ 3597 2675 3597 1894 \nz\nM 3022 2063 \nQ 3016 2534 2758 2815 \nQ 2500 3097 2075 3097 \nQ 1594 3097 1305 2825 \nQ 1016 2553 972 2059 \nL 3022 2063 \nz\n\" transform=\"scale(0.015625)\"/>\n       <path id=\"DejaVuSans-70\" d=\"M 1159 525 \nL 1159 -1331 \nL 581 -1331 \nL 581 3500 \nL 1159 3500 \nL 1159 2969 \nQ 1341 3281 1617 3432 \nQ 1894 3584 2278 3584 \nQ 2916 3584 3314 3078 \nQ 3713 2572 3713 1747 \nQ 3713 922 3314 415 \nQ 2916 -91 2278 -91 \nQ 1894 -91 1617 61 \nQ 1341 213 1159 525 \nz\nM 3116 1747 \nQ 3116 2381 2855 2742 \nQ 2594 3103 2138 3103 \nQ 1681 3103 1420 2742 \nQ 1159 2381 1159 1747 \nQ 1159 1113 1420 752 \nQ 1681 391 2138 391 \nQ 2594 391 2855 752 \nQ 3116 1113 3116 1747 \nz\n\" transform=\"scale(0.015625)\"/>\n       <path id=\"DejaVuSans-6f\" d=\"M 1959 3097 \nQ 1497 3097 1228 2736 \nQ 959 2375 959 1747 \nQ 959 1119 1226 758 \nQ 1494 397 1959 397 \nQ 2419 397 2687 759 \nQ 2956 1122 2956 1747 \nQ 2956 2369 2687 2733 \nQ 2419 3097 1959 3097 \nz\nM 1959 3584 \nQ 2709 3584 3137 3096 \nQ 3566 2609 3566 1747 \nQ 3566 888 3137 398 \nQ 2709 -91 1959 -91 \nQ 1206 -91 779 398 \nQ 353 888 353 1747 \nQ 353 2609 779 3096 \nQ 1206 3584 1959 3584 \nz\n\" transform=\"scale(0.015625)\"/>\n       <path id=\"DejaVuSans-63\" d=\"M 3122 3366 \nL 3122 2828 \nQ 2878 2963 2633 3030 \nQ 2388 3097 2138 3097 \nQ 1578 3097 1268 2742 \nQ 959 2388 959 1747 \nQ 959 1106 1268 751 \nQ 1578 397 2138 397 \nQ 2388 397 2633 464 \nQ 2878 531 3122 666 \nL 3122 134 \nQ 2881 22 2623 -34 \nQ 2366 -91 2075 -91 \nQ 1284 -91 818 406 \nQ 353 903 353 1747 \nQ 353 2603 823 3093 \nQ 1294 3584 2113 3584 \nQ 2378 3584 2631 3529 \nQ 2884 3475 3122 3366 \nz\n\" transform=\"scale(0.015625)\"/>\n       <path id=\"DejaVuSans-68\" d=\"M 3513 2113 \nL 3513 0 \nL 2938 0 \nL 2938 2094 \nQ 2938 2591 2744 2837 \nQ 2550 3084 2163 3084 \nQ 1697 3084 1428 2787 \nQ 1159 2491 1159 1978 \nL 1159 0 \nL 581 0 \nL 581 4863 \nL 1159 4863 \nL 1159 2956 \nQ 1366 3272 1645 3428 \nQ 1925 3584 2291 3584 \nQ 2894 3584 3203 3211 \nQ 3513 2838 3513 2113 \nz\n\" transform=\"scale(0.015625)\"/>\n      </defs>\n      <use xlink:href=\"#DejaVuSans-65\"/>\n      <use xlink:href=\"#DejaVuSans-70\" x=\"61.523438\"/>\n      <use xlink:href=\"#DejaVuSans-6f\" x=\"125\"/>\n      <use xlink:href=\"#DejaVuSans-63\" x=\"186.181641\"/>\n      <use xlink:href=\"#DejaVuSans-68\" x=\"241.162109\"/>\n     </g>\n    </g>\n   </g>\n   <g id=\"matplotlib.axis_2\">\n    <g id=\"ytick_1\">\n     <g id=\"line2d_9\">\n      <defs>\n       <path id=\"m3856f00c4e\" d=\"M 0 0 \nL -3.5 0 \n\" style=\"stroke: #000000; stroke-width: 0.8\"/>\n      </defs>\n      <g>\n       <use xlink:href=\"#m3856f00c4e\" x=\"50.14375\" y=\"240.39018\" style=\"stroke: #000000; stroke-width: 0.8\"/>\n      </g>\n     </g>\n     <g id=\"text_10\">\n      <!-- 50 -->\n      <g transform=\"translate(30.41875 244.189398)scale(0.1 -0.1)\">\n       <use xlink:href=\"#DejaVuSans-35\"/>\n       <use xlink:href=\"#DejaVuSans-30\" x=\"63.623047\"/>\n      </g>\n     </g>\n    </g>\n    <g id=\"ytick_2\">\n     <g id=\"line2d_10\">\n      <g>\n       <use xlink:href=\"#m3856f00c4e\" x=\"50.14375\" y=\"185.65228\" style=\"stroke: #000000; stroke-width: 0.8\"/>\n      </g>\n     </g>\n     <g id=\"text_11\">\n      <!-- 60 -->\n      <g transform=\"translate(30.41875 189.451499)scale(0.1 -0.1)\">\n       <defs>\n        <path id=\"DejaVuSans-36\" d=\"M 2113 2584 \nQ 1688 2584 1439 2293 \nQ 1191 2003 1191 1497 \nQ 1191 994 1439 701 \nQ 1688 409 2113 409 \nQ 2538 409 2786 701 \nQ 3034 994 3034 1497 \nQ 3034 2003 2786 2293 \nQ 2538 2584 2113 2584 \nz\nM 3366 4563 \nL 3366 3988 \nQ 3128 4100 2886 4159 \nQ 2644 4219 2406 4219 \nQ 1781 4219 1451 3797 \nQ 1122 3375 1075 2522 \nQ 1259 2794 1537 2939 \nQ 1816 3084 2150 3084 \nQ 2853 3084 3261 2657 \nQ 3669 2231 3669 1497 \nQ 3669 778 3244 343 \nQ 2819 -91 2113 -91 \nQ 1303 -91 875 529 \nQ 447 1150 447 2328 \nQ 447 3434 972 4092 \nQ 1497 4750 2381 4750 \nQ 2619 4750 2861 4703 \nQ 3103 4656 3366 4563 \nz\n\" transform=\"scale(0.015625)\"/>\n       </defs>\n       <use xlink:href=\"#DejaVuSans-36\"/>\n       <use xlink:href=\"#DejaVuSans-30\" x=\"63.623047\"/>\n      </g>\n     </g>\n    </g>\n    <g id=\"ytick_3\">\n     <g id=\"line2d_11\">\n      <g>\n       <use xlink:href=\"#m3856f00c4e\" x=\"50.14375\" y=\"130.914381\" style=\"stroke: #000000; stroke-width: 0.8\"/>\n      </g>\n     </g>\n     <g id=\"text_12\">\n      <!-- 70 -->\n      <g transform=\"translate(30.41875 134.713599)scale(0.1 -0.1)\">\n       <use xlink:href=\"#DejaVuSans-37\"/>\n       <use xlink:href=\"#DejaVuSans-30\" x=\"63.623047\"/>\n      </g>\n     </g>\n    </g>\n    <g id=\"ytick_4\">\n     <g id=\"line2d_12\">\n      <g>\n       <use xlink:href=\"#m3856f00c4e\" x=\"50.14375\" y=\"76.176481\" style=\"stroke: #000000; stroke-width: 0.8\"/>\n      </g>\n     </g>\n     <g id=\"text_13\">\n      <!-- 80 -->\n      <g transform=\"translate(30.41875 79.9757)scale(0.1 -0.1)\">\n       <defs>\n        <path id=\"DejaVuSans-38\" d=\"M 2034 2216 \nQ 1584 2216 1326 1975 \nQ 1069 1734 1069 1313 \nQ 1069 891 1326 650 \nQ 1584 409 2034 409 \nQ 2484 409 2743 651 \nQ 3003 894 3003 1313 \nQ 3003 1734 2745 1975 \nQ 2488 2216 2034 2216 \nz\nM 1403 2484 \nQ 997 2584 770 2862 \nQ 544 3141 544 3541 \nQ 544 4100 942 4425 \nQ 1341 4750 2034 4750 \nQ 2731 4750 3128 4425 \nQ 3525 4100 3525 3541 \nQ 3525 3141 3298 2862 \nQ 3072 2584 2669 2484 \nQ 3125 2378 3379 2068 \nQ 3634 1759 3634 1313 \nQ 3634 634 3220 271 \nQ 2806 -91 2034 -91 \nQ 1263 -91 848 271 \nQ 434 634 434 1313 \nQ 434 1759 690 2068 \nQ 947 2378 1403 2484 \nz\nM 1172 3481 \nQ 1172 3119 1398 2916 \nQ 1625 2713 2034 2713 \nQ 2441 2713 2670 2916 \nQ 2900 3119 2900 3481 \nQ 2900 3844 2670 4047 \nQ 2441 4250 2034 4250 \nQ 1625 4250 1398 4047 \nQ 1172 3844 1172 3481 \nz\n\" transform=\"scale(0.015625)\"/>\n       </defs>\n       <use xlink:href=\"#DejaVuSans-38\"/>\n       <use xlink:href=\"#DejaVuSans-30\" x=\"63.623047\"/>\n      </g>\n     </g>\n    </g>\n    <g id=\"ytick_5\">\n     <g id=\"line2d_13\">\n      <g>\n       <use xlink:href=\"#m3856f00c4e\" x=\"50.14375\" y=\"21.438582\" style=\"stroke: #000000; stroke-width: 0.8\"/>\n      </g>\n     </g>\n     <g id=\"text_14\">\n      <!-- 90 -->\n      <g transform=\"translate(30.41875 25.2378)scale(0.1 -0.1)\">\n       <defs>\n        <path id=\"DejaVuSans-39\" d=\"M 703 97 \nL 703 672 \nQ 941 559 1184 500 \nQ 1428 441 1663 441 \nQ 2288 441 2617 861 \nQ 2947 1281 2994 2138 \nQ 2813 1869 2534 1725 \nQ 2256 1581 1919 1581 \nQ 1219 1581 811 2004 \nQ 403 2428 403 3163 \nQ 403 3881 828 4315 \nQ 1253 4750 1959 4750 \nQ 2769 4750 3195 4129 \nQ 3622 3509 3622 2328 \nQ 3622 1225 3098 567 \nQ 2575 -91 1691 -91 \nQ 1453 -91 1209 -44 \nQ 966 3 703 97 \nz\nM 1959 2075 \nQ 2384 2075 2632 2365 \nQ 2881 2656 2881 3163 \nQ 2881 3666 2632 3958 \nQ 2384 4250 1959 4250 \nQ 1534 4250 1286 3958 \nQ 1038 3666 1038 3163 \nQ 1038 2656 1286 2365 \nQ 1534 2075 1959 2075 \nz\n\" transform=\"scale(0.015625)\"/>\n       </defs>\n       <use xlink:href=\"#DejaVuSans-39\"/>\n       <use xlink:href=\"#DejaVuSans-30\" x=\"63.623047\"/>\n      </g>\n     </g>\n    </g>\n    <g id=\"text_15\">\n     <!-- accuracy -->\n     <g transform=\"translate(24.339062 153.30483)rotate(-90)scale(0.1 -0.1)\">\n      <defs>\n       <path id=\"DejaVuSans-61\" d=\"M 2194 1759 \nQ 1497 1759 1228 1600 \nQ 959 1441 959 1056 \nQ 959 750 1161 570 \nQ 1363 391 1709 391 \nQ 2188 391 2477 730 \nQ 2766 1069 2766 1631 \nL 2766 1759 \nL 2194 1759 \nz\nM 3341 1997 \nL 3341 0 \nL 2766 0 \nL 2766 531 \nQ 2569 213 2275 61 \nQ 1981 -91 1556 -91 \nQ 1019 -91 701 211 \nQ 384 513 384 1019 \nQ 384 1609 779 1909 \nQ 1175 2209 1959 2209 \nL 2766 2209 \nL 2766 2266 \nQ 2766 2663 2505 2880 \nQ 2244 3097 1772 3097 \nQ 1472 3097 1187 3025 \nQ 903 2953 641 2809 \nL 641 3341 \nQ 956 3463 1253 3523 \nQ 1550 3584 1831 3584 \nQ 2591 3584 2966 3190 \nQ 3341 2797 3341 1997 \nz\n\" transform=\"scale(0.015625)\"/>\n       <path id=\"DejaVuSans-75\" d=\"M 544 1381 \nL 544 3500 \nL 1119 3500 \nL 1119 1403 \nQ 1119 906 1312 657 \nQ 1506 409 1894 409 \nQ 2359 409 2629 706 \nQ 2900 1003 2900 1516 \nL 2900 3500 \nL 3475 3500 \nL 3475 0 \nL 2900 0 \nL 2900 538 \nQ 2691 219 2414 64 \nQ 2138 -91 1772 -91 \nQ 1169 -91 856 284 \nQ 544 659 544 1381 \nz\nM 1991 3584 \nL 1991 3584 \nz\n\" transform=\"scale(0.015625)\"/>\n       <path id=\"DejaVuSans-72\" d=\"M 2631 2963 \nQ 2534 3019 2420 3045 \nQ 2306 3072 2169 3072 \nQ 1681 3072 1420 2755 \nQ 1159 2438 1159 1844 \nL 1159 0 \nL 581 0 \nL 581 3500 \nL 1159 3500 \nL 1159 2956 \nQ 1341 3275 1631 3429 \nQ 1922 3584 2338 3584 \nQ 2397 3584 2469 3576 \nQ 2541 3569 2628 3553 \nL 2631 2963 \nz\n\" transform=\"scale(0.015625)\"/>\n       <path id=\"DejaVuSans-79\" d=\"M 2059 -325 \nQ 1816 -950 1584 -1140 \nQ 1353 -1331 966 -1331 \nL 506 -1331 \nL 506 -850 \nL 844 -850 \nQ 1081 -850 1212 -737 \nQ 1344 -625 1503 -206 \nL 1606 56 \nL 191 3500 \nL 800 3500 \nL 1894 763 \nL 2988 3500 \nL 3597 3500 \nL 2059 -325 \nz\n\" transform=\"scale(0.015625)\"/>\n      </defs>\n      <use xlink:href=\"#DejaVuSans-61\"/>\n      <use xlink:href=\"#DejaVuSans-63\" x=\"61.279297\"/>\n      <use xlink:href=\"#DejaVuSans-63\" x=\"116.259766\"/>\n      <use xlink:href=\"#DejaVuSans-75\" x=\"171.240234\"/>\n      <use xlink:href=\"#DejaVuSans-72\" x=\"234.619141\"/>\n      <use xlink:href=\"#DejaVuSans-61\" x=\"275.732422\"/>\n      <use xlink:href=\"#DejaVuSans-63\" x=\"337.011719\"/>\n      <use xlink:href=\"#DejaVuSans-79\" x=\"391.992188\"/>\n     </g>\n    </g>\n   </g>\n   <g id=\"line2d_14\">\n    <path d=\"M 75.507386 243.059504 \nL 102.205951 169.974269 \nL 128.904516 104.694254 \nL 155.60308 51.138962 \nL 182.301645 33.028164 \nL 209.000209 31.203595 \nL 235.698774 29.378985 \nL 262.397339 25.729805 \nL 289.095903 24.817479 \nL 315.794468 22.080584 \nL 342.493032 21.1683 \nL 369.191597 21.1683 \nL 395.890161 20.256016 \nL 422.588726 20.256016 \nL 449.287291 20.256016 \nL 475.985855 20.256016 \nL 502.68442 20.256016 \nL 529.382984 19.343689 \nL 556.081549 18.431405 \nL 582.780114 18.431405 \n\" clip-path=\"url(#p2f0a365e48)\" style=\"fill: none; stroke: #1f77b4; stroke-width: 1.5; stroke-linecap: square\"/>\n    <defs>\n     <path id=\"m699954db94\" d=\"M -3 3 \nL 3 -3 \nM -3 -3 \nL 3 3 \n\" style=\"stroke: #1f77b4\"/>\n    </defs>\n    <g clip-path=\"url(#p2f0a365e48)\">\n     <use xlink:href=\"#m699954db94\" x=\"75.507386\" y=\"243.059504\" style=\"fill: #1f77b4; stroke: #1f77b4\"/>\n     <use xlink:href=\"#m699954db94\" x=\"102.205951\" y=\"169.974269\" style=\"fill: #1f77b4; stroke: #1f77b4\"/>\n     <use xlink:href=\"#m699954db94\" x=\"128.904516\" y=\"104.694254\" style=\"fill: #1f77b4; stroke: #1f77b4\"/>\n     <use xlink:href=\"#m699954db94\" x=\"155.60308\" y=\"51.138962\" style=\"fill: #1f77b4; stroke: #1f77b4\"/>\n     <use xlink:href=\"#m699954db94\" x=\"182.301645\" y=\"33.028164\" style=\"fill: #1f77b4; stroke: #1f77b4\"/>\n     <use xlink:href=\"#m699954db94\" x=\"209.000209\" y=\"31.203595\" style=\"fill: #1f77b4; stroke: #1f77b4\"/>\n     <use xlink:href=\"#m699954db94\" x=\"235.698774\" y=\"29.378985\" style=\"fill: #1f77b4; stroke: #1f77b4\"/>\n     <use xlink:href=\"#m699954db94\" x=\"262.397339\" y=\"25.729805\" style=\"fill: #1f77b4; stroke: #1f77b4\"/>\n     <use xlink:href=\"#m699954db94\" x=\"289.095903\" y=\"24.817479\" style=\"fill: #1f77b4; stroke: #1f77b4\"/>\n     <use xlink:href=\"#m699954db94\" x=\"315.794468\" y=\"22.080584\" style=\"fill: #1f77b4; stroke: #1f77b4\"/>\n     <use xlink:href=\"#m699954db94\" x=\"342.493032\" y=\"21.1683\" style=\"fill: #1f77b4; stroke: #1f77b4\"/>\n     <use xlink:href=\"#m699954db94\" x=\"369.191597\" y=\"21.1683\" style=\"fill: #1f77b4; stroke: #1f77b4\"/>\n     <use xlink:href=\"#m699954db94\" x=\"395.890161\" y=\"20.256016\" style=\"fill: #1f77b4; stroke: #1f77b4\"/>\n     <use xlink:href=\"#m699954db94\" x=\"422.588726\" y=\"20.256016\" style=\"fill: #1f77b4; stroke: #1f77b4\"/>\n     <use xlink:href=\"#m699954db94\" x=\"449.287291\" y=\"20.256016\" style=\"fill: #1f77b4; stroke: #1f77b4\"/>\n     <use xlink:href=\"#m699954db94\" x=\"475.985855\" y=\"20.256016\" style=\"fill: #1f77b4; stroke: #1f77b4\"/>\n     <use xlink:href=\"#m699954db94\" x=\"502.68442\" y=\"20.256016\" style=\"fill: #1f77b4; stroke: #1f77b4\"/>\n     <use xlink:href=\"#m699954db94\" x=\"529.382984\" y=\"19.343689\" style=\"fill: #1f77b4; stroke: #1f77b4\"/>\n     <use xlink:href=\"#m699954db94\" x=\"556.081549\" y=\"18.431405\" style=\"fill: #1f77b4; stroke: #1f77b4\"/>\n     <use xlink:href=\"#m699954db94\" x=\"582.780114\" y=\"18.431405\" style=\"fill: #1f77b4; stroke: #1f77b4\"/>\n    </g>\n   </g>\n   <g id=\"patch_3\">\n    <path d=\"M 50.14375 254.290909 \nL 50.14375 7.2 \n\" style=\"fill: none; stroke: #000000; stroke-width: 0.8; stroke-linejoin: miter; stroke-linecap: square\"/>\n   </g>\n   <g id=\"patch_4\">\n    <path d=\"M 608.14375 254.290909 \nL 608.14375 7.2 \n\" style=\"fill: none; stroke: #000000; stroke-width: 0.8; stroke-linejoin: miter; stroke-linecap: square\"/>\n   </g>\n   <g id=\"patch_5\">\n    <path d=\"M 50.14375 254.290909 \nL 608.14375 254.290909 \n\" style=\"fill: none; stroke: #000000; stroke-width: 0.8; stroke-linejoin: miter; stroke-linecap: square\"/>\n   </g>\n   <g id=\"patch_6\">\n    <path d=\"M 50.14375 7.2 \nL 608.14375 7.2 \n\" style=\"fill: none; stroke: #000000; stroke-width: 0.8; stroke-linejoin: miter; stroke-linecap: square\"/>\n   </g>\n  </g>\n  <g id=\"axes_2\">\n   <g id=\"patch_7\">\n    <path d=\"M 50.14375 550.8 \nL 608.14375 550.8 \nL 608.14375 303.709091 \nL 50.14375 303.709091 \nz\n\" style=\"fill: #ffffff\"/>\n   </g>\n   <g id=\"matplotlib.axis_3\">\n    <g id=\"xtick_9\">\n     <g id=\"line2d_15\">\n      <g>\n       <use xlink:href=\"#md84eb9cf7f\" x=\"75.507386\" y=\"550.8\" style=\"stroke: #000000; stroke-width: 0.8\"/>\n      </g>\n     </g>\n     <g id=\"text_16\">\n      <!-- 0.0 -->\n      <g transform=\"translate(67.555824 565.398437)scale(0.1 -0.1)\">\n       <use xlink:href=\"#DejaVuSans-30\"/>\n       <use xlink:href=\"#DejaVuSans-2e\" x=\"63.623047\"/>\n       <use xlink:href=\"#DejaVuSans-30\" x=\"95.410156\"/>\n      </g>\n     </g>\n    </g>\n    <g id=\"xtick_10\">\n     <g id=\"line2d_16\">\n      <g>\n       <use xlink:href=\"#md84eb9cf7f\" x=\"142.253798\" y=\"550.8\" style=\"stroke: #000000; stroke-width: 0.8\"/>\n      </g>\n     </g>\n     <g id=\"text_17\">\n      <!-- 2.5 -->\n      <g transform=\"translate(134.302235 565.398437)scale(0.1 -0.1)\">\n       <use xlink:href=\"#DejaVuSans-32\"/>\n       <use xlink:href=\"#DejaVuSans-2e\" x=\"63.623047\"/>\n       <use xlink:href=\"#DejaVuSans-35\" x=\"95.410156\"/>\n      </g>\n     </g>\n    </g>\n    <g id=\"xtick_11\">\n     <g id=\"line2d_17\">\n      <g>\n       <use xlink:href=\"#md84eb9cf7f\" x=\"209.000209\" y=\"550.8\" style=\"stroke: #000000; stroke-width: 0.8\"/>\n      </g>\n     </g>\n     <g id=\"text_18\">\n      <!-- 5.0 -->\n      <g transform=\"translate(201.048647 565.398437)scale(0.1 -0.1)\">\n       <use xlink:href=\"#DejaVuSans-35\"/>\n       <use xlink:href=\"#DejaVuSans-2e\" x=\"63.623047\"/>\n       <use xlink:href=\"#DejaVuSans-30\" x=\"95.410156\"/>\n      </g>\n     </g>\n    </g>\n    <g id=\"xtick_12\">\n     <g id=\"line2d_18\">\n      <g>\n       <use xlink:href=\"#md84eb9cf7f\" x=\"275.746621\" y=\"550.8\" style=\"stroke: #000000; stroke-width: 0.8\"/>\n      </g>\n     </g>\n     <g id=\"text_19\">\n      <!-- 7.5 -->\n      <g transform=\"translate(267.795058 565.398437)scale(0.1 -0.1)\">\n       <use xlink:href=\"#DejaVuSans-37\"/>\n       <use xlink:href=\"#DejaVuSans-2e\" x=\"63.623047\"/>\n       <use xlink:href=\"#DejaVuSans-35\" x=\"95.410156\"/>\n      </g>\n     </g>\n    </g>\n    <g id=\"xtick_13\">\n     <g id=\"line2d_19\">\n      <g>\n       <use xlink:href=\"#md84eb9cf7f\" x=\"342.493032\" y=\"550.8\" style=\"stroke: #000000; stroke-width: 0.8\"/>\n      </g>\n     </g>\n     <g id=\"text_20\">\n      <!-- 10.0 -->\n      <g transform=\"translate(331.36022 565.398437)scale(0.1 -0.1)\">\n       <use xlink:href=\"#DejaVuSans-31\"/>\n       <use xlink:href=\"#DejaVuSans-30\" x=\"63.623047\"/>\n       <use xlink:href=\"#DejaVuSans-2e\" x=\"127.246094\"/>\n       <use xlink:href=\"#DejaVuSans-30\" x=\"159.033203\"/>\n      </g>\n     </g>\n    </g>\n    <g id=\"xtick_14\">\n     <g id=\"line2d_20\">\n      <g>\n       <use xlink:href=\"#md84eb9cf7f\" x=\"409.239444\" y=\"550.8\" style=\"stroke: #000000; stroke-width: 0.8\"/>\n      </g>\n     </g>\n     <g id=\"text_21\">\n      <!-- 12.5 -->\n      <g transform=\"translate(398.106631 565.398437)scale(0.1 -0.1)\">\n       <use xlink:href=\"#DejaVuSans-31\"/>\n       <use xlink:href=\"#DejaVuSans-32\" x=\"63.623047\"/>\n       <use xlink:href=\"#DejaVuSans-2e\" x=\"127.246094\"/>\n       <use xlink:href=\"#DejaVuSans-35\" x=\"159.033203\"/>\n      </g>\n     </g>\n    </g>\n    <g id=\"xtick_15\">\n     <g id=\"line2d_21\">\n      <g>\n       <use xlink:href=\"#md84eb9cf7f\" x=\"475.985855\" y=\"550.8\" style=\"stroke: #000000; stroke-width: 0.8\"/>\n      </g>\n     </g>\n     <g id=\"text_22\">\n      <!-- 15.0 -->\n      <g transform=\"translate(464.853043 565.398437)scale(0.1 -0.1)\">\n       <use xlink:href=\"#DejaVuSans-31\"/>\n       <use xlink:href=\"#DejaVuSans-35\" x=\"63.623047\"/>\n       <use xlink:href=\"#DejaVuSans-2e\" x=\"127.246094\"/>\n       <use xlink:href=\"#DejaVuSans-30\" x=\"159.033203\"/>\n      </g>\n     </g>\n    </g>\n    <g id=\"xtick_16\">\n     <g id=\"line2d_22\">\n      <g>\n       <use xlink:href=\"#md84eb9cf7f\" x=\"542.732267\" y=\"550.8\" style=\"stroke: #000000; stroke-width: 0.8\"/>\n      </g>\n     </g>\n     <g id=\"text_23\">\n      <!-- 17.5 -->\n      <g transform=\"translate(531.599454 565.398437)scale(0.1 -0.1)\">\n       <use xlink:href=\"#DejaVuSans-31\"/>\n       <use xlink:href=\"#DejaVuSans-37\" x=\"63.623047\"/>\n       <use xlink:href=\"#DejaVuSans-2e\" x=\"127.246094\"/>\n       <use xlink:href=\"#DejaVuSans-35\" x=\"159.033203\"/>\n      </g>\n     </g>\n    </g>\n    <g id=\"text_24\">\n     <!-- epoch -->\n     <g transform=\"translate(313.915625 579.076562)scale(0.1 -0.1)\">\n      <use xlink:href=\"#DejaVuSans-65\"/>\n      <use xlink:href=\"#DejaVuSans-70\" x=\"61.523438\"/>\n      <use xlink:href=\"#DejaVuSans-6f\" x=\"125\"/>\n      <use xlink:href=\"#DejaVuSans-63\" x=\"186.181641\"/>\n      <use xlink:href=\"#DejaVuSans-68\" x=\"241.162109\"/>\n     </g>\n    </g>\n   </g>\n   <g id=\"matplotlib.axis_4\">\n    <g id=\"ytick_6\">\n     <g id=\"line2d_23\">\n      <g>\n       <use xlink:href=\"#m3856f00c4e\" x=\"50.14375\" y=\"523.82391\" style=\"stroke: #000000; stroke-width: 0.8\"/>\n      </g>\n     </g>\n     <g id=\"text_25\">\n      <!-- 0.10 -->\n      <g transform=\"translate(20.878125 527.623128)scale(0.1 -0.1)\">\n       <use xlink:href=\"#DejaVuSans-30\"/>\n       <use xlink:href=\"#DejaVuSans-2e\" x=\"63.623047\"/>\n       <use xlink:href=\"#DejaVuSans-31\" x=\"95.410156\"/>\n       <use xlink:href=\"#DejaVuSans-30\" x=\"159.033203\"/>\n      </g>\n     </g>\n    </g>\n    <g id=\"ytick_7\">\n     <g id=\"line2d_24\">\n      <g>\n       <use xlink:href=\"#m3856f00c4e\" x=\"50.14375\" y=\"494.335766\" style=\"stroke: #000000; stroke-width: 0.8\"/>\n      </g>\n     </g>\n     <g id=\"text_26\">\n      <!-- 0.12 -->\n      <g transform=\"translate(20.878125 498.134985)scale(0.1 -0.1)\">\n       <use xlink:href=\"#DejaVuSans-30\"/>\n       <use xlink:href=\"#DejaVuSans-2e\" x=\"63.623047\"/>\n       <use xlink:href=\"#DejaVuSans-31\" x=\"95.410156\"/>\n       <use xlink:href=\"#DejaVuSans-32\" x=\"159.033203\"/>\n      </g>\n     </g>\n    </g>\n    <g id=\"ytick_8\">\n     <g id=\"line2d_25\">\n      <g>\n       <use xlink:href=\"#m3856f00c4e\" x=\"50.14375\" y=\"464.847622\" style=\"stroke: #000000; stroke-width: 0.8\"/>\n      </g>\n     </g>\n     <g id=\"text_27\">\n      <!-- 0.14 -->\n      <g transform=\"translate(20.878125 468.646841)scale(0.1 -0.1)\">\n       <defs>\n        <path id=\"DejaVuSans-34\" d=\"M 2419 4116 \nL 825 1625 \nL 2419 1625 \nL 2419 4116 \nz\nM 2253 4666 \nL 3047 4666 \nL 3047 1625 \nL 3713 1625 \nL 3713 1100 \nL 3047 1100 \nL 3047 0 \nL 2419 0 \nL 2419 1100 \nL 313 1100 \nL 313 1709 \nL 2253 4666 \nz\n\" transform=\"scale(0.015625)\"/>\n       </defs>\n       <use xlink:href=\"#DejaVuSans-30\"/>\n       <use xlink:href=\"#DejaVuSans-2e\" x=\"63.623047\"/>\n       <use xlink:href=\"#DejaVuSans-31\" x=\"95.410156\"/>\n       <use xlink:href=\"#DejaVuSans-34\" x=\"159.033203\"/>\n      </g>\n     </g>\n    </g>\n    <g id=\"ytick_9\">\n     <g id=\"line2d_26\">\n      <g>\n       <use xlink:href=\"#m3856f00c4e\" x=\"50.14375\" y=\"435.359479\" style=\"stroke: #000000; stroke-width: 0.8\"/>\n      </g>\n     </g>\n     <g id=\"text_28\">\n      <!-- 0.16 -->\n      <g transform=\"translate(20.878125 439.158698)scale(0.1 -0.1)\">\n       <use xlink:href=\"#DejaVuSans-30\"/>\n       <use xlink:href=\"#DejaVuSans-2e\" x=\"63.623047\"/>\n       <use xlink:href=\"#DejaVuSans-31\" x=\"95.410156\"/>\n       <use xlink:href=\"#DejaVuSans-36\" x=\"159.033203\"/>\n      </g>\n     </g>\n    </g>\n    <g id=\"ytick_10\">\n     <g id=\"line2d_27\">\n      <g>\n       <use xlink:href=\"#m3856f00c4e\" x=\"50.14375\" y=\"405.871335\" style=\"stroke: #000000; stroke-width: 0.8\"/>\n      </g>\n     </g>\n     <g id=\"text_29\">\n      <!-- 0.18 -->\n      <g transform=\"translate(20.878125 409.670554)scale(0.1 -0.1)\">\n       <use xlink:href=\"#DejaVuSans-30\"/>\n       <use xlink:href=\"#DejaVuSans-2e\" x=\"63.623047\"/>\n       <use xlink:href=\"#DejaVuSans-31\" x=\"95.410156\"/>\n       <use xlink:href=\"#DejaVuSans-38\" x=\"159.033203\"/>\n      </g>\n     </g>\n    </g>\n    <g id=\"ytick_11\">\n     <g id=\"line2d_28\">\n      <g>\n       <use xlink:href=\"#m3856f00c4e\" x=\"50.14375\" y=\"376.383192\" style=\"stroke: #000000; stroke-width: 0.8\"/>\n      </g>\n     </g>\n     <g id=\"text_30\">\n      <!-- 0.20 -->\n      <g transform=\"translate(20.878125 380.182411)scale(0.1 -0.1)\">\n       <use xlink:href=\"#DejaVuSans-30\"/>\n       <use xlink:href=\"#DejaVuSans-2e\" x=\"63.623047\"/>\n       <use xlink:href=\"#DejaVuSans-32\" x=\"95.410156\"/>\n       <use xlink:href=\"#DejaVuSans-30\" x=\"159.033203\"/>\n      </g>\n     </g>\n    </g>\n    <g id=\"ytick_12\">\n     <g id=\"line2d_29\">\n      <g>\n       <use xlink:href=\"#m3856f00c4e\" x=\"50.14375\" y=\"346.895048\" style=\"stroke: #000000; stroke-width: 0.8\"/>\n      </g>\n     </g>\n     <g id=\"text_31\">\n      <!-- 0.22 -->\n      <g transform=\"translate(20.878125 350.694267)scale(0.1 -0.1)\">\n       <use xlink:href=\"#DejaVuSans-30\"/>\n       <use xlink:href=\"#DejaVuSans-2e\" x=\"63.623047\"/>\n       <use xlink:href=\"#DejaVuSans-32\" x=\"95.410156\"/>\n       <use xlink:href=\"#DejaVuSans-32\" x=\"159.033203\"/>\n      </g>\n     </g>\n    </g>\n    <g id=\"ytick_13\">\n     <g id=\"line2d_30\">\n      <g>\n       <use xlink:href=\"#m3856f00c4e\" x=\"50.14375\" y=\"317.406905\" style=\"stroke: #000000; stroke-width: 0.8\"/>\n      </g>\n     </g>\n     <g id=\"text_32\">\n      <!-- 0.24 -->\n      <g transform=\"translate(20.878125 321.206123)scale(0.1 -0.1)\">\n       <use xlink:href=\"#DejaVuSans-30\"/>\n       <use xlink:href=\"#DejaVuSans-2e\" x=\"63.623047\"/>\n       <use xlink:href=\"#DejaVuSans-32\" x=\"95.410156\"/>\n       <use xlink:href=\"#DejaVuSans-34\" x=\"159.033203\"/>\n      </g>\n     </g>\n    </g>\n    <g id=\"text_33\">\n     <!-- loss -->\n     <g transform=\"translate(14.798437 436.912358)rotate(-90)scale(0.1 -0.1)\">\n      <defs>\n       <path id=\"DejaVuSans-6c\" d=\"M 603 4863 \nL 1178 4863 \nL 1178 0 \nL 603 0 \nL 603 4863 \nz\n\" transform=\"scale(0.015625)\"/>\n       <path id=\"DejaVuSans-73\" d=\"M 2834 3397 \nL 2834 2853 \nQ 2591 2978 2328 3040 \nQ 2066 3103 1784 3103 \nQ 1356 3103 1142 2972 \nQ 928 2841 928 2578 \nQ 928 2378 1081 2264 \nQ 1234 2150 1697 2047 \nL 1894 2003 \nQ 2506 1872 2764 1633 \nQ 3022 1394 3022 966 \nQ 3022 478 2636 193 \nQ 2250 -91 1575 -91 \nQ 1294 -91 989 -36 \nQ 684 19 347 128 \nL 347 722 \nQ 666 556 975 473 \nQ 1284 391 1588 391 \nQ 1994 391 2212 530 \nQ 2431 669 2431 922 \nQ 2431 1156 2273 1281 \nQ 2116 1406 1581 1522 \nL 1381 1569 \nQ 847 1681 609 1914 \nQ 372 2147 372 2553 \nQ 372 3047 722 3315 \nQ 1072 3584 1716 3584 \nQ 2034 3584 2315 3537 \nQ 2597 3491 2834 3397 \nz\n\" transform=\"scale(0.015625)\"/>\n      </defs>\n      <use xlink:href=\"#DejaVuSans-6c\"/>\n      <use xlink:href=\"#DejaVuSans-6f\" x=\"27.783203\"/>\n      <use xlink:href=\"#DejaVuSans-73\" x=\"88.964844\"/>\n      <use xlink:href=\"#DejaVuSans-73\" x=\"141.064453\"/>\n     </g>\n    </g>\n   </g>\n   <g id=\"line2d_31\">\n    <path d=\"M 75.507386 314.940496 \nL 102.205951 348.960288 \nL 128.904516 383.591866 \nL 155.60308 419.331785 \nL 182.301645 451.467617 \nL 209.000209 476.361858 \nL 235.698774 494.140365 \nL 262.397339 506.477821 \nL 289.095903 514.764158 \nL 315.794468 520.467679 \nL 342.493032 524.580578 \nL 369.191597 527.880079 \nL 395.890161 530.202809 \nL 422.588726 532.360333 \nL 449.287291 534.049779 \nL 475.985855 535.59735 \nL 502.68442 536.818046 \nL 529.382984 537.905317 \nL 556.081549 538.732666 \nL 582.780114 539.568595 \n\" clip-path=\"url(#p353a0d4456)\" style=\"fill: none; stroke: #1f77b4; stroke-width: 1.5; stroke-linecap: square\"/>\n    <g clip-path=\"url(#p353a0d4456)\">\n     <use xlink:href=\"#m699954db94\" x=\"75.507386\" y=\"314.940496\" style=\"fill: #1f77b4; stroke: #1f77b4\"/>\n     <use xlink:href=\"#m699954db94\" x=\"102.205951\" y=\"348.960288\" style=\"fill: #1f77b4; stroke: #1f77b4\"/>\n     <use xlink:href=\"#m699954db94\" x=\"128.904516\" y=\"383.591866\" style=\"fill: #1f77b4; stroke: #1f77b4\"/>\n     <use xlink:href=\"#m699954db94\" x=\"155.60308\" y=\"419.331785\" style=\"fill: #1f77b4; stroke: #1f77b4\"/>\n     <use xlink:href=\"#m699954db94\" x=\"182.301645\" y=\"451.467617\" style=\"fill: #1f77b4; stroke: #1f77b4\"/>\n     <use xlink:href=\"#m699954db94\" x=\"209.000209\" y=\"476.361858\" style=\"fill: #1f77b4; stroke: #1f77b4\"/>\n     <use xlink:href=\"#m699954db94\" x=\"235.698774\" y=\"494.140365\" style=\"fill: #1f77b4; stroke: #1f77b4\"/>\n     <use xlink:href=\"#m699954db94\" x=\"262.397339\" y=\"506.477821\" style=\"fill: #1f77b4; stroke: #1f77b4\"/>\n     <use xlink:href=\"#m699954db94\" x=\"289.095903\" y=\"514.764158\" style=\"fill: #1f77b4; stroke: #1f77b4\"/>\n     <use xlink:href=\"#m699954db94\" x=\"315.794468\" y=\"520.467679\" style=\"fill: #1f77b4; stroke: #1f77b4\"/>\n     <use xlink:href=\"#m699954db94\" x=\"342.493032\" y=\"524.580578\" style=\"fill: #1f77b4; stroke: #1f77b4\"/>\n     <use xlink:href=\"#m699954db94\" x=\"369.191597\" y=\"527.880079\" style=\"fill: #1f77b4; stroke: #1f77b4\"/>\n     <use xlink:href=\"#m699954db94\" x=\"395.890161\" y=\"530.202809\" style=\"fill: #1f77b4; stroke: #1f77b4\"/>\n     <use xlink:href=\"#m699954db94\" x=\"422.588726\" y=\"532.360333\" style=\"fill: #1f77b4; stroke: #1f77b4\"/>\n     <use xlink:href=\"#m699954db94\" x=\"449.287291\" y=\"534.049779\" style=\"fill: #1f77b4; stroke: #1f77b4\"/>\n     <use xlink:href=\"#m699954db94\" x=\"475.985855\" y=\"535.59735\" style=\"fill: #1f77b4; stroke: #1f77b4\"/>\n     <use xlink:href=\"#m699954db94\" x=\"502.68442\" y=\"536.818046\" style=\"fill: #1f77b4; stroke: #1f77b4\"/>\n     <use xlink:href=\"#m699954db94\" x=\"529.382984\" y=\"537.905317\" style=\"fill: #1f77b4; stroke: #1f77b4\"/>\n     <use xlink:href=\"#m699954db94\" x=\"556.081549\" y=\"538.732666\" style=\"fill: #1f77b4; stroke: #1f77b4\"/>\n     <use xlink:href=\"#m699954db94\" x=\"582.780114\" y=\"539.568595\" style=\"fill: #1f77b4; stroke: #1f77b4\"/>\n    </g>\n   </g>\n   <g id=\"patch_8\">\n    <path d=\"M 50.14375 550.8 \nL 50.14375 303.709091 \n\" style=\"fill: none; stroke: #000000; stroke-width: 0.8; stroke-linejoin: miter; stroke-linecap: square\"/>\n   </g>\n   <g id=\"patch_9\">\n    <path d=\"M 608.14375 550.8 \nL 608.14375 303.709091 \n\" style=\"fill: none; stroke: #000000; stroke-width: 0.8; stroke-linejoin: miter; stroke-linecap: square\"/>\n   </g>\n   <g id=\"patch_10\">\n    <path d=\"M 50.14375 550.8 \nL 608.14375 550.8 \n\" style=\"fill: none; stroke: #000000; stroke-width: 0.8; stroke-linejoin: miter; stroke-linecap: square\"/>\n   </g>\n   <g id=\"patch_11\">\n    <path d=\"M 50.14375 303.709091 \nL 608.14375 303.709091 \n\" style=\"fill: none; stroke: #000000; stroke-width: 0.8; stroke-linejoin: miter; stroke-linecap: square\"/>\n   </g>\n  </g>\n </g>\n <defs>\n  <clipPath id=\"p2f0a365e48\">\n   <rect x=\"50.14375\" y=\"7.2\" width=\"558\" height=\"247.090909\"/>\n  </clipPath>\n  <clipPath id=\"p353a0d4456\">\n   <rect x=\"50.14375\" y=\"303.709091\" width=\"558\" height=\"247.090909\"/>\n  </clipPath>\n </defs>\n</svg>\n",
      "image/png": "[encoded data removed]"
     },
     "metadata": {
      "needs_background": "light"
     }
    }
   ],
   "source": [
    "# seu código aqui\n",
    "\n",
    "\n",
    "accuracies = [result[1] for result in model.evaluate_history]\n",
    "losses = [result[0] for result in model.evaluate_history]\n",
    "\n",
    "fig, axs = plt.subplots(2, figsize=(10, 10))\n",
    "\n",
    "axs[0].set(xlabel='epoch', ylabel='accuracy')\n",
    "axs[0].plot(accuracies, '-x')\n",
    "axs[1].set(xlabel='epoch', ylabel='loss')\n",
    "axs[1].plot(losses, '-x')\n"
   ]
  },
  {
   "source": [
    "### Matriz de confusão e  classification report:"
   ],
   "cell_type": "markdown",
   "metadata": {}
  },
  {
   "cell_type": "code",
   "execution_count": 358,
   "metadata": {
    "tags": []
   },
   "outputs": [
    {
     "output_type": "stream",
     "name": "stdout",
     "text": [
      "Confusion Matrix:\n____________________________________________________________\n\t[301   5]\n\t[ 50 221]\nClassification report\n____________________________________________________________\n              precision    recall  f1-score   support\n\n           0       0.86      0.98      0.92       306\n           1       0.98      0.82      0.89       271\n\n    accuracy                           0.90       577\n   macro avg       0.92      0.90      0.90       577\nweighted avg       0.91      0.90      0.90       577\n\n"
     ]
    }
   ],
   "source": [
    "\n",
    "from sklearn.metrics import confusion_matrix, classification_report\n",
    "\n",
    "predictions = []\n",
    "\n",
    "model.eval()\n",
    "with torch.no_grad():\n",
    "    for x, y in test_dataset_loader:\n",
    "        output = model(x)\n",
    "        output_rounded = torch.round(output)\n",
    "        predictions.extend(output_rounded.squeeze().tolist())\n",
    "\n",
    "print(\"Confusion Matrix:\")\n",
    "print('_'*60)\n",
    "print('\\t{0}\\n\\t{1}'.format(*confusion_matrix(y_test, predictions)))\n",
    "\n",
    "print('Classification report')\n",
    "print('_'*60)\n",
    "print(classification_report(y_test, predictions))"
   ]
  },
  {
   "cell_type": "code",
   "execution_count": 330,
   "metadata": {},
   "outputs": [
    {
     "output_type": "stream",
     "name": "stdout",
     "text": [
      "27\n12\n600\n"
     ]
    }
   ],
   "source": []
  },
  {
   "cell_type": "markdown",
   "metadata": {
    "id": "Niw6wHrljjV2"
   },
   "source": [
    " # Q2 - Predição de preços de diamantes"
   ]
  },
  {
   "cell_type": "markdown",
   "metadata": {
    "id": "ONbiiXLbq1tA"
   },
   "source": [
    "## Carga e inspeção dos dados"
   ]
  },
  {
   "cell_type": "code",
   "execution_count": 198,
   "metadata": {
    "id": "LmBHvO2Cq08F"
   },
   "outputs": [],
   "source": [
    "# seu código aqui"
   ]
  },
  {
   "cell_type": "markdown",
   "metadata": {
    "id": "iEp9JWGCqMkm"
   },
   "source": [
    "## Pré-processamento dos dados"
   ]
  },
  {
   "cell_type": "code",
   "execution_count": 199,
   "metadata": {
    "id": "9t7KmrCakSpa"
   },
   "outputs": [],
   "source": [
    "# seu código aqui"
   ]
  },
  {
   "cell_type": "markdown",
   "metadata": {
    "id": "XIQ-Z9WtqOtt"
   },
   "source": [
    "## Treinamento do modelo"
   ]
  },
  {
   "cell_type": "code",
   "execution_count": 200,
   "metadata": {
    "id": "z32YFTSrqTX5"
   },
   "outputs": [],
   "source": [
    "# seu código aqui"
   ]
  },
  {
   "cell_type": "markdown",
   "metadata": {
    "id": "e5p1O5qXqYf0"
   },
   "source": [
    "## Validação do modelo"
   ]
  },
  {
   "cell_type": "code",
   "execution_count": 201,
   "metadata": {
    "id": "b626XbseqYf0"
   },
   "outputs": [],
   "source": [
    "# seu código aqui"
   ]
  },
  {
   "cell_type": "markdown",
   "metadata": {
    "id": "JY79wPKJjn6j"
   },
   "source": [
    "# Classificação de imagens (Fashion MNIST)"
   ]
  },
  {
   "cell_type": "markdown",
   "metadata": {
    "id": "x9DDmWNDrEJj"
   },
   "source": [
    "## Carga e inspeção dos dados"
   ]
  },
  {
   "cell_type": "code",
   "execution_count": 202,
   "metadata": {
    "id": "CFZiP_KYrEJj"
   },
   "outputs": [],
   "source": [
    "# seu código aqui"
   ]
  },
  {
   "cell_type": "markdown",
   "metadata": {
    "id": "G9vwj6JLrEJj"
   },
   "source": [
    "## Pré-processamento dos dados"
   ]
  },
  {
   "cell_type": "code",
   "execution_count": 203,
   "metadata": {
    "id": "a9eg0TLyrEJk"
   },
   "outputs": [],
   "source": [
    "# seu código aqui"
   ]
  },
  {
   "cell_type": "markdown",
   "metadata": {
    "id": "PD4E55alrEJk"
   },
   "source": [
    "## Treinamento do modelo"
   ]
  },
  {
   "cell_type": "code",
   "execution_count": 204,
   "metadata": {
    "id": "hNJlO8TvrEJk"
   },
   "outputs": [],
   "source": [
    "# seu código aqui"
   ]
  },
  {
   "cell_type": "markdown",
   "metadata": {
    "id": "Fm6UfQL7rEJk"
   },
   "source": [
    "## Validação do modelo"
   ]
  },
  {
   "cell_type": "code",
   "execution_count": 205,
   "metadata": {
    "id": "-ehrIzAxkTgJ"
   },
   "outputs": [],
   "source": [
    "# seu código aqui"
   ]
  },
  {
   "cell_type": "code",
   "execution_count": null,
   "metadata": {},
   "outputs": [],
   "source": []
  }
 ],
 "metadata": {
  "colab": {
   "collapsed_sections": [],
   "name": "DL_T1.ipynb",
   "provenance": [],
   "toc_visible": true
  },
  "kernelspec": {
   "display_name": "Python 3 (ipykernel)",
   "language": "python",
   "name": "python3"
  },
  "language_info": {
   "codemirror_mode": {
    "name": "ipython",
    "version": 3
   },
   "file_extension": ".py",
   "mimetype": "text/x-python",
   "name": "python",
   "nbconvert_exporter": "python",
   "pygments_lexer": "ipython3",
   "version": "3.9.6-final"
  }
 },
 "nbformat": 4,
 "nbformat_minor": 1
}