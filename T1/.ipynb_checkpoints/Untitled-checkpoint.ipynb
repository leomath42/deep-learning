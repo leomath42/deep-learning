{
 "cells": [
  {
   "cell_type": "markdown",
   "id": "fcbb801e",
   "metadata": {},
   "source": [
    "## Estudando um pouco de numpy, scipy e PyTorch\n"
   ]
  },
  {
   "cell_type": "markdown",
   "id": "a23068f6",
   "metadata": {},
   "source": []
  },
  {
   "cell_type": "code",
   "execution_count": 3,
   "id": "6d260d4d",
   "metadata": {},
   "outputs": [
    {
     "name": "stdout",
     "output_type": "stream",
     "text": [
      "[0 1 2 3 4 5]\n",
      "(6,)\n"
     ]
    }
   ],
   "source": [
    "import numpy as np\n",
    "\n",
    "lista = list(range(6))\n",
    "\n",
    "x = np.array(lista)\n",
    "\n",
    "print(x)\n",
    "\n",
    "# Retorna uma tupla com o tamanho das dimensões do array.\n",
    "print(x.shape)"
   ]
  },
  {
   "cell_type": "code",
   "execution_count": 43,
   "id": "c91908b3",
   "metadata": {},
   "outputs": [
    {
     "name": "stdout",
     "output_type": "stream",
     "text": [
      "[[0 1 2 4]\n",
      " [3 4 5 5]\n",
      " [6 7 8 6]]\n"
     ]
    }
   ],
   "source": [
    "# Cria uma matrix dado os inputs\n",
    "A = np.matrix('0 1 2 4; 3 4 5 5; 6 7 8 6')\n",
    "print(A)"
   ]
  },
  {
   "cell_type": "code",
   "execution_count": 5,
   "id": "04154de8",
   "metadata": {},
   "outputs": [
    {
     "name": "stdout",
     "output_type": "stream",
     "text": [
      "[[1. 0. 0. 0.]\n",
      " [0. 1. 0. 0.]\n",
      " [0. 0. 1. 0.]\n",
      " [0. 0. 0. 1.]]\n"
     ]
    }
   ],
   "source": [
    "# Cria uma matrix identidade de tamanho 4x4.\n",
    "I4 = np.identity(4)\n",
    "print(I4)"
   ]
  },
  {
   "cell_type": "code",
   "execution_count": 7,
   "id": "3071e0f8",
   "metadata": {},
   "outputs": [
    {
     "data": {
      "text/plain": [
       "matrix([[0., 1., 2., 4.],\n",
       "        [3., 4., 5., 5.],\n",
       "        [6., 7., 8., 6.]])"
      ]
     },
     "execution_count": 7,
     "metadata": {},
     "output_type": "execute_result"
    }
   ],
   "source": [
    "# Multiplicação entre matrizes m x p * p *n  onde p==p\n",
    "\n",
    "np.matmul(A, I4)"
   ]
  },
  {
   "cell_type": "code",
   "execution_count": 9,
   "id": "4af05183",
   "metadata": {},
   "outputs": [
    {
     "name": "stdout",
     "output_type": "stream",
     "text": [
      "[0 1 2 3 4 5 6 7 8]\n",
      "[ 2  3  4  5  6  7  8  9 10]\n"
     ]
    }
   ],
   "source": [
    "# Cria um array do numpy\n",
    "np.arange(9)"
   ]
  },
  {
   "cell_type": "code",
   "execution_count": null,
   "id": "4288ff65",
   "metadata": {},
   "outputs": [],
   "source": [
    "# Adiciona 2 para cada valor do array do numpy\n",
    "print(np.arange(9) + 2) # broadcasting"
   ]
  },
  {
   "cell_type": "code",
   "execution_count": 44,
   "id": "e49f98f6",
   "metadata": {},
   "outputs": [
    {
     "name": "stdout",
     "output_type": "stream",
     "text": [
      "[0 1 2 3 4 5 6 7 8]\n",
      "[[0 1 2]\n",
      " [3 4 5]\n",
      " [6 7 8]]\n"
     ]
    }
   ],
   "source": [
    "X = np.arange(9)\n",
    "print(X)\n",
    "# Muda a forma do array, no caso, antes era um array 1x9 (uma linha e nove coluna)\n",
    "# após a operação será uma array de 3x3 (3 linhas e 3 colunas).\n",
    "B = np.arange(9).reshape((3,3))\n",
    "print(B)\n"
   ]
  },
  {
   "cell_type": "code",
   "execution_count": 55,
   "id": "dc5d4394",
   "metadata": {},
   "outputs": [
    {
     "name": "stdout",
     "output_type": "stream",
     "text": [
      "[[ 0  1  2]\n",
      " [ 3  4  5]\n",
      " [ 6  7  8]\n",
      " [ 9 10 11]]\n",
      "[[0 1 2]\n",
      " [3 4 5]\n",
      " [6 7 8]]\n",
      "[[ 15  18  21]\n",
      " [ 42  54  66]\n",
      " [ 69  90 111]\n",
      " [ 96 126 156]]\n"
     ]
    },
    {
     "ename": "ValueError",
     "evalue": "operands could not be broadcast together with shapes (4,3) (3,3) ",
     "output_type": "error",
     "traceback": [
      "\u001b[0;31m---------------------------------------------------------------------------\u001b[0m",
      "\u001b[0;31mValueError\u001b[0m                                Traceback (most recent call last)",
      "Input \u001b[0;32mIn [55]\u001b[0m, in \u001b[0;36m<module>\u001b[0;34m\u001b[0m\n\u001b[1;32m      7\u001b[0m C \u001b[38;5;241m=\u001b[39m np\u001b[38;5;241m.\u001b[39mmatmul(aux,B)\n\u001b[1;32m      8\u001b[0m \u001b[38;5;28mprint\u001b[39m(C)\n\u001b[0;32m---> 11\u001b[0m \u001b[38;5;28mprint\u001b[39m(\u001b[38;5;124m\"\u001b[39m\u001b[38;5;124mOutra forma de multiplicar matrix:\u001b[39m\u001b[38;5;132;01m{}\u001b[39;00m\u001b[38;5;124m \u001b[39m\u001b[38;5;124m\"\u001b[39m\u001b[38;5;241m.\u001b[39mformat( \u001b[43maux\u001b[49m\u001b[43m \u001b[49m\u001b[38;5;241;43m*\u001b[39;49m\u001b[43m \u001b[49m\u001b[43mB\u001b[49m))\n",
      "\u001b[0;31mValueError\u001b[0m: operands could not be broadcast together with shapes (4,3) (3,3) "
     ]
    }
   ],
   "source": [
    "# Matrix-Matrix Multiplication\n",
    "aux = np.arange(12).reshape(4, 3)\n",
    "print(aux)\n",
    "\n",
    "print(B)\n",
    "\n",
    "C = np.matmul(aux,B)\n",
    "print(C)\n",
    "\n",
    "\n",
    "print(\"Outra forma de multiplicar matrix:\")\n",
    "print(aux * B)\n"
   ]
  },
  {
   "cell_type": "code",
   "execution_count": 54,
   "id": "85d36d58",
   "metadata": {},
   "outputs": [
    {
     "data": {
      "text/plain": [
       "array([ 15,  54, 111])"
      ]
     },
     "execution_count": 54,
     "metadata": {},
     "output_type": "execute_result"
    }
   ],
   "source": [
    "\n",
    "# retorna a diagonal da matrix\n",
    "np.diag(C)"
   ]
  },
  {
   "cell_type": "code",
   "execution_count": 58,
   "id": "54c1b718",
   "metadata": {},
   "outputs": [
    {
     "name": "stdout",
     "output_type": "stream",
     "text": [
      "[[2 0]\n",
      " [0 4]]\n",
      "[[5 4]\n",
      " [3 4]]\n"
     ]
    }
   ],
   "source": [
    "A = np.array([[1, 1],\n",
    "              [0, 1]])\n",
    "B = np.array([[2, 0],\n",
    "              [3, 4]])\n",
    "# elementwise ou Hadamard product (matrices)\n",
    "# note que * é diferente de matmult !!!! é necessário \n",
    "# que A e B tenham o mesmo tamanho\n",
    "print(A * B)     \n"
   ]
  },
  {
   "cell_type": "code",
   "execution_count": 67,
   "id": "9cb78e7a",
   "metadata": {},
   "outputs": [
    {
     "name": "stdout",
     "output_type": "stream",
     "text": [
      "[[5 4]\n",
      " [3 4]]\n",
      "[[5 4]\n",
      " [3 4]]\n",
      "[[5 4]\n",
      " [3 4]]\n"
     ]
    }
   ],
   "source": [
    "# As duas operações são equivalentes:\n",
    "print(np.matmul(A, B))\n",
    "\n",
    "print(A @ B)\n",
    "\n",
    "print(A.dot(B))\n"
   ]
  },
  {
   "cell_type": "code",
   "execution_count": 68,
   "id": "6c5e9c15",
   "metadata": {},
   "outputs": [
    {
     "name": "stdout",
     "output_type": "stream",
     "text": [
      "[16  6  8]\n",
      "[16  6  8]\n",
      "[16  6  8]\n"
     ]
    }
   ],
   "source": [
    "# As duas operações são equivalentes:\n",
    "A = np.array([[ 5, 1 ,3], \n",
    "              [ 1, 1 ,1], \n",
    "              [ 1, 2 ,1]])\n",
    "\n",
    "x = np.array([1, 2, 3])\n",
    "\n",
    "print(np.matmul(A, x))\n",
    "\n",
    "print(A @ x)\n",
    "\n",
    "print(A.dot(x))\n"
   ]
  },
  {
   "cell_type": "code",
   "execution_count": 64,
   "id": "47a7a1e5",
   "metadata": {},
   "outputs": [
    {
     "data": {
      "text/plain": [
       "2"
      ]
     },
     "execution_count": 64,
     "metadata": {},
     "output_type": "execute_result"
    }
   ],
   "source": [
    "# Retorna o produto interno(inner product)\n",
    "# <x,y> = <(1, 2, 3), (0, 1, 0)> = 1*0 + 2*1 + 3*0 = 2\n",
    "x = np.array([1,2,3])\n",
    "y = np.array([0,1,0])\n",
    "\n",
    "\n",
    "\n",
    "np.inner(x, y)"
   ]
  },
  {
   "cell_type": "code",
   "execution_count": 65,
   "id": "dc508d44",
   "metadata": {},
   "outputs": [
    {
     "data": {
      "text/plain": [
       "array([[1., 0.],\n",
       "       [0., 1.]])"
      ]
     },
     "execution_count": 65,
     "metadata": {},
     "output_type": "execute_result"
    }
   ],
   "source": [
    "# Cria uma matrix identidade\n",
    "np.eye(2)"
   ]
  },
  {
   "cell_type": "code",
   "execution_count": 66,
   "id": "ea0e66f2",
   "metadata": {},
   "outputs": [
    {
     "data": {
      "text/plain": [
       "array([1., 1., 1.])"
      ]
     },
     "execution_count": 66,
     "metadata": {},
     "output_type": "execute_result"
    }
   ],
   "source": [
    "# Retorna um novo array preenchido com 1s a\n",
    "# partir de um shape(formato da matrix)\n",
    "np.ones((3,))"
   ]
  },
  {
   "cell_type": "code",
   "execution_count": null,
   "id": "5443534f",
   "metadata": {},
   "outputs": [],
   "source": [
    "# outer product\n",
    "x = np.ones((5,))\n",
    "print(x)\n",
    "\n",
    "y = np.linspace(-2, 2, 5)\n",
    "print(y)\n",
    "\n",
    "# retorna o produto externo(vetorial)(outer product)\n",
    "np.outer(x, y)"
   ]
  },
  {
   "cell_type": "code",
   "execution_count": 69,
   "id": "85ecb11f",
   "metadata": {},
   "outputs": [
    {
     "name": "stdout",
     "output_type": "stream",
     "text": [
      "[[1. 0. 0.]\n",
      " [0. 1. 0.]\n",
      " [0. 0. 1.]]\n"
     ]
    },
    {
     "data": {
      "text/plain": [
       "3.0"
      ]
     },
     "execution_count": 69,
     "metadata": {},
     "output_type": "execute_result"
    }
   ],
   "source": [
    "aux = np.eye(3)\n",
    "print(aux)\n",
    "\n",
    "# Retorna o somatório da diagonal\n",
    "np.trace(aux)"
   ]
  },
  {
   "cell_type": "code",
   "execution_count": 71,
   "id": "6d7dedf5",
   "metadata": {},
   "outputs": [
    {
     "name": "stdout",
     "output_type": "stream",
     "text": [
      "1.7320508075688772\n"
     ]
    }
   ],
   "source": [
    "# vector norms\n",
    "from numpy import linalg as LA\n",
    "\n",
    "print(LA.norm(aux))\n"
   ]
  },
  {
   "cell_type": "code",
   "execution_count": 73,
   "id": "ffd02812",
   "metadata": {},
   "outputs": [
    {
     "data": {
      "text/plain": [
       "tensor([[ 2.8241e+26,  4.5639e-41],\n",
       "        [-4.9122e-14,  4.5639e-41]])"
      ]
     },
     "execution_count": 73,
     "metadata": {},
     "output_type": "execute_result"
    }
   ],
   "source": [
    "import torch\n",
    "\n",
    "help(torch.empty)\n",
    "torch.empty(2, 2)"
   ]
  },
  {
   "cell_type": "code",
   "execution_count": null,
   "id": "0b21e7dd",
   "metadata": {},
   "outputs": [],
   "source": []
  }
 ],
 "metadata": {
  "kernelspec": {
   "display_name": "Python 3 (ipykernel)",
   "language": "python",
   "name": "python3"
  },
  "language_info": {
   "codemirror_mode": {
    "name": "ipython",
    "version": 3
   },
   "file_extension": ".py",
   "mimetype": "text/x-python",
   "name": "python",
   "nbconvert_exporter": "python",
   "pygments_lexer": "ipython3",
   "version": "3.9.6"
  }
 },
 "nbformat": 4,
 "nbformat_minor": 5
}
