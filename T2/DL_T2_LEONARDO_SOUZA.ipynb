{
 "cells": [
  {
   "source": [
    "# Trabalho T2 de Deep Learning\n",
    "\n",
    "Aluno: Leonardo Souza\n",
    "\n",
    "Professor: Eduardo Bezerra\n",
    "\n"
   ],
   "cell_type": "markdown",
   "metadata": {}
  },
  {
   "source": [
    "## Q1 - Comparação GCN vs MLP\n",
    "\n"
   ],
   "cell_type": "markdown",
   "metadata": {}
  },
  {
   "source": [
    "## Q2 - Coloração de imagens\n",
    "\n",
    "O objetivo dessa questão é a adaptação do código **Beta Version** do autor (Emil Wallner), que foi desenvolvida para colorir imagens preto e branco, utilizando a framework TensorFlow. para imagens coloridas de forma que funcione com o Pytorch.\n",
    "\n",
    "\n",
    "Para tal, foram desenvolvidas as seguintes seções:\n",
    "\n",
    "- Coleta de dados.\n",
    "- Pré-processamento e validação dos dados.\n",
    "- Desenvolvimento do Modelo.\n",
    "- Etapa de Treino do modelo.\n",
    "- Validação do Modelo.\n",
    "- Conclução."
   ],
   "cell_type": "markdown",
   "metadata": {}
  },
  {
   "cell_type": "code",
   "execution_count": null,
   "metadata": {},
   "outputs": [],
   "source": []
  }
 ],
 "metadata": {},
 "nbformat": 4,
 "nbformat_minor": 5
}